{
 "cells": [
  {
   "cell_type": "markdown",
   "id": "fcbbbe29",
   "metadata": {},
   "source": [
    "## First attempt at combining the alm, wigner rotations and visibility response"
   ]
  },
  {
   "cell_type": "code",
   "execution_count": 133,
   "id": "f833538c",
   "metadata": {},
   "outputs": [],
   "source": [
    "import numpy as np\n",
    "import scipy as sp\n",
    "\n",
    "# Plotting\n",
    "#import matplotlib.pyplot as plt\n",
    "import cmocean\n",
    "import cmocean.cm as cmo\n",
    "import pylab as plt\n",
    "\n",
    "# Mapping\n",
    "import healpy as hp\n",
    "\n",
    "# Wigner D matrices\n",
    "import spherical, quaternionic\n",
    "\n",
    "# Simulation\n",
    "import pyuvsim\n",
    "\n",
    "# Hydra\n",
    "import sys\n",
    "sys.path.append(\"/home/katgla/Documents/hera/Hydra\") # change this to your own path\n",
    "import hydra\n",
    "\n",
    "# All things astropy\n",
    "from astropy import units\n",
    "from astropy.coordinates import EarthLocation, SkyCoord\n",
    "from astropy.coordinates.builtin_frames import AltAz, ICRS\n",
    "from astropy.time import Time\n",
    "\n",
    "# Pandas, dataframe\n",
    "import pandas as pd\n",
    "\n",
    "# Time\n",
    "from numba import jit\n",
    "import time\n",
    "\n",
    "# Parallel computing\n",
    "from joblib import Parallel, delayed"
   ]
  },
  {
   "cell_type": "markdown",
   "id": "258b5cf3-f458-456f-a965-8312f5033a8e",
   "metadata": {
    "tags": []
   },
   "source": [
    "# Functions"
   ]
  },
  {
   "cell_type": "markdown",
   "id": "fb255769",
   "metadata": {
    "jp-MarkdownHeadingCollapsed": true,
    "tags": []
   },
   "source": [
    "## Functions from `wigner_rotations.ipynb`"
   ]
  },
  {
   "cell_type": "code",
   "execution_count": 2,
   "id": "12930e8d",
   "metadata": {},
   "outputs": [],
   "source": [
    "# def get_zenith_coord(nside, location, obstime):\n",
    "#     \"\"\"\n",
    "#     Uses location and obstime to calculate the RA/Dec coordinates and pixel index of zenith above the given location.\n",
    "    \n",
    "#     ** Inputs:\n",
    "    \n",
    "#     location: given as an astropy `EarthLocation` object\n",
    "#     obstime: given as an astropy `Time` object\n",
    "#     nside: Resolution\n",
    "    \n",
    "#     ** Outputs:\n",
    "    \n",
    "#     ra_zenith: Right ascention of zenith at given location and obstime in radian\n",
    "#     dec_zenith: Declination of zenith at given location and obstime in radian\n",
    "#     lst: Local sidereal time corresponding to the given opstime and longitude in radian\n",
    "#     pix_zenith: The index of the pixel at zenith given the resolution (nside)\n",
    "    \n",
    "#     \"\"\"\n",
    "    \n",
    "#     # Define AltAz frame at time 0\n",
    "#     frame_altaz0 = AltAz(obstime=obstime, location=location)\n",
    "    \n",
    "#     # # Define a coordinate that is at the zenith at time 0\n",
    "#     zenith_at_loc_altaz = SkyCoord(alt=90.*units.degree, az=0.*units.degree, frame=frame_altaz0)\n",
    "#     zenith_at_loc_radec = zenith_at_loc_altaz.copy().transform_to('icrs')\n",
    "\n",
    "#     # Get zenith coordinates\n",
    "#     ra_zenith = zenith_at_loc_radec.ra\n",
    "#     dec_zenith = zenith_at_loc_radec.dec\n",
    "    \n",
    "#     # get local sidereal time of obstime0 at this longitude, in radians\n",
    "#     lst = obstime.sidereal_time(kind='mean', longitude=location.lon)\n",
    "    \n",
    "#     # Get the zenith pixel number\n",
    "#     pix_zenith = hp.ang2pix(nside, ra_zenith.deg, dec_zenith.deg, lonlat=True)\n",
    "    \n",
    "#     return ra_zenith.rad, dec_zenith.rad, lst.rad, pix_zenith"
   ]
  },
  {
   "cell_type": "code",
   "execution_count": 3,
   "id": "922752f9",
   "metadata": {},
   "outputs": [],
   "source": [
    "def get_index_dataframe(lmax):#, ell=0, m=0):\n",
    "    '''\n",
    "    Function to get the list of indices (i, ell, m) for ALL the modes in the `spherical` code\n",
    "    \n",
    "    ** Returns\n",
    "    \n",
    "    mode_indices: pandas dataframe with indices ordered as (i, ell, m) where i is the 'global' index of the alm-modes.\n",
    "    \n",
    "    '''\n",
    "    # Number of modes \n",
    "    nmodes_wigner = lmax*(lmax+2)+1                                  # all modes\n",
    "    nmodes_healpy = lmax * (2 * lmax + 1 - lmax) // 2 + lmax + 1     # only m>=0 modes\n",
    "\n",
    "    # Create empty Modes object to get indices\n",
    "    modes = spherical.Modes(np.zeros(shape=nmodes_wigner, dtype=np.complex128), spin_weight=0)\n",
    "\n",
    "    #Get ell, m and global index i according to the `spherical` ordering\n",
    "    indices = np.empty(shape=(nmodes_wigner,2))\n",
    "    for ell_mode in range(0,lmax+1):\n",
    "        for m_mode in range(-ell_mode,ell_mode+1):\n",
    "            i = modes.index(ell=ell_mode,m=m_mode)\n",
    "            indices[i] = [ell_mode, m_mode]\n",
    "\n",
    "    indices_df =  pd.DataFrame(indices)\n",
    "    indices_df.columns = ['ell', 'm']\n",
    "    \n",
    "    # List of wigner indices\n",
    "    mode_indices = indices_df\n",
    "   \n",
    "    return mode_indices"
   ]
  },
  {
   "cell_type": "code",
   "execution_count": 4,
   "id": "8c689c16",
   "metadata": {},
   "outputs": [],
   "source": [
    "def ordering(lmax, ell=0, m=0):\n",
    "    '''\n",
    "    Function to ensure the correct ordering of alm-modes when switching between `HEALpy` and `spherical`.\n",
    "    Finds the indices to convert between the ordering of 'HEALpy' and 'spherical' using ALL modes\n",
    "    \n",
    "    ** Returns\n",
    "    \n",
    "    wigner2healpy: indices in a list to go from `spherical` ordering to `HEALpy`\n",
    "    healpy2wigner: indices in a list to go from `HEALpy` ordering to `spherical`\n",
    "    neg_modes_index: Index of where to cut off negative modes to get to `HEALpy`s alm-convention. Necessary for plotting.\n",
    "    index_ell_mode: Gets `spherical` indices of the modes matching the input `ell` value Default ell=0 mode.\n",
    "    index_m_mode: Gets `spherical` indices of the modes matching the input `m` value. Default m=0 mode.\n",
    "    \n",
    "    '''\n",
    "    # Number of modes \n",
    "    nmodes_wigner = lmax*(lmax+2)+1                                  # all modes\n",
    "    nmodes_healpy = lmax * (2 * lmax + 1 - lmax) // 2 + lmax + 1     # only m>=0 modes\n",
    "\n",
    "    \n",
    "    # List of wigner indices\n",
    "    mode_indices = get_index_dataframe(lmax)#, ell, m)\n",
    "\n",
    "    # Sort indices: spherical (wigner) -->  HEALpy\n",
    "    df1 = mode_indices.sort_values(['m', 'ell'])\n",
    "    wigner2healpy = df1.index.to_list()\n",
    "    \n",
    "    # Sort indices: HEALpy --> spherical (wigner)\n",
    "    reset = df1.reset_index()  # resets to HEALpy as standard\n",
    "    df2 = reset.sort_values(['ell', 'm'])\n",
    "    healpy2wigner = df2.index.to_list()\n",
    "\n",
    "    # Get ell, m indicies (ONLY FOR WIGNER)\n",
    "    index_ell_mode = df1.loc[df1.ell == ell].index.tolist()\n",
    "    index_m_mode = df1.loc[df1.m == m].index.tolist()\n",
    "    \n",
    "    # Get cutoff index for removing negative modes\n",
    "    neg_modes_index = nmodes_wigner-nmodes_healpy\n",
    "    \n",
    "    return wigner2healpy, healpy2wigner, neg_modes_index, index_ell_mode, index_m_mode"
   ]
  },
  {
   "cell_type": "code",
   "execution_count": 144,
   "id": "96d6822f",
   "metadata": {},
   "outputs": [],
   "source": [
    "def WignerDsize(ell_min, mp_max, ell_max=-1): # function taken from the `spherical` utilities, should probably replace with link?\n",
    "    if ell_max < 0:\n",
    "        ell_max = mp_max\n",
    "    if mp_max >= ell_max:\n",
    "        return (\n",
    "            ell_max * (ell_max * (4 * ell_max + 12) + 11)\n",
    "            + ell_min * (1 - 4 * ell_min**2)\n",
    "            + 3\n",
    "        ) // 3\n",
    "    if mp_max > ell_min:\n",
    "        return (\n",
    "            3 * ell_max * (ell_max + 2)\n",
    "            + ell_min * (1 - 4 * ell_min**2)\n",
    "            + mp_max * (\n",
    "                3 * ell_max * (2 * ell_max + 4)\n",
    "                + mp_max * (-2 * mp_max - 3) + 5\n",
    "            )\n",
    "            + 3\n",
    "        ) // 3\n",
    "    else:\n",
    "        return (ell_max * (ell_max + 2) - ell_min**2) * (1 + 2 * mp_max) + 2 * mp_max + 1"
   ]
  },
  {
   "cell_type": "code",
   "execution_count": 145,
   "id": "2fe87564",
   "metadata": {},
   "outputs": [],
   "source": [
    "def WignerDindex(ell, mp, m, ell_min=0, mp_max=-1): # from the spherical utilities, should probably replace with link?\n",
    "    \"\"\"\n",
    "    Compute index into Wigner D matrix\n",
    "    \n",
    "    Parameters\n",
    "    ----------\n",
    "    ell : int\n",
    "        Integer satisfying ell_min <= ell <= ell_max\n",
    "    mp : int\n",
    "        Integer satisfying -min(ell_max, mp_max) <= mp <= min(ell_max, mp_max)\n",
    "    m : int\n",
    "        Integer satisfying -ell <= m <= ell\n",
    "    ell_min : int, optional\n",
    "        Integer satisfying 0 <= ell_min <= ell_max.  Defaults to 0.\n",
    "    mp_max : int, optional\n",
    "        Integer satisfying 0 <= mp_max.  Defaults to ell.\n",
    "    \n",
    "    Returns\n",
    "    -------\n",
    "    i : int\n",
    "        Index into Wigner D matrix arranged as described below\n",
    "    \n",
    "    See Also\n",
    "    --------\n",
    "    WignerDsize : Total size of the D matrix\n",
    "    WignerDrange : Array of (ℓ, m', m) indices corresponding to the 𝔇 matrix\n",
    "    \n",
    "    Notes\n",
    "    -----\n",
    "    This assumes that the Wigner D matrix is arranged as\n",
    "        [\n",
    "            𝔇(ℓ, mp, m)\n",
    "            for ℓ in range(ell_min, ell_max+1)\n",
    "            for mp in range(-min(ℓ, mp_max), min(ℓ, mp_max)+1)\n",
    "            for m in range(-ℓ, ℓ+1)\n",
    "        ]\n",
    "    \"\"\"\n",
    "    if mp_max < 0:\n",
    "        mp_max = ell\n",
    "    i = (mp + min(mp_max, ell)) * (2 * ell + 1) + m + ell\n",
    "    if ell > ell_min:\n",
    "        i += WignerDsize(ell_min, mp_max, ell-1)\n",
    "    return i"
   ]
  },
  {
   "cell_type": "code",
   "execution_count": 310,
   "id": "b032db42",
   "metadata": {},
   "outputs": [],
   "source": [
    "def D_matrix_1D(lmax, hour_angle, ra=0, dec=0):\n",
    "    \"\"\"\n",
    "    Calculcates the 1D D-matrix for a specific rotation given by the hour angle\n",
    "    \n",
    "    Parameters\n",
    "    ----------\n",
    "    \n",
    "    * lmax (int): \n",
    "            Sets the number of modes (used for creating the `Wigner` object)\n",
    "    * ha (float): \n",
    "            The hour angle of the source. Assumes that it's given as a fraction of a \n",
    "            sidereal day, i.e. as a decimal number where 1 = one sidereal day.  \n",
    "    * ra (float):\n",
    "            The right ascension of the source in RADIANS. Only set this if you want an \n",
    "            offset from the centre. Default: ra = 0.\n",
    "    * dec (float): \n",
    "            The declination of the source in RADIANS. Only set this if you want an \n",
    "            offset from the centre. Default: dec = 0.         \n",
    "    \n",
    "    Returns\n",
    "    -------\n",
    "    \n",
    "    * wigner_D_matrix_1D (spherical wigner matrix object (1D array)):\n",
    "            Rotational matrix to perform the hour_angle rotation.\n",
    "    \n",
    "    Notes\n",
    "    ------\n",
    "\n",
    "    Rotation Euler angles for `spherical`:\n",
    "    \n",
    "      * zyz-convention\n",
    "      * Order of rotations: phi --> theta --> psi\n",
    "      * phi and theta are swapped compared to astropy \n",
    "      * phi has the opposite sign compared to astropy\n",
    "     \n",
    "    phi: (radian) Corresponds to change in HA. Sign is automatically changed to fit with `spherical`\n",
    "    theta: (radian) Corresponds to declination.\n",
    "    psi: (radian) Is per default set to zero.\n",
    "    \"\"\"\n",
    "       \n",
    "    hour_angle_rad = np.radians(hour_angle*360)\n",
    "              \n",
    "    # Set euler angles with 'spherical' sign convention\n",
    "    phi = ra+hour_angle_rad\n",
    "    theta = dec\n",
    "    psi = 0\n",
    "\n",
    "\n",
    "    # Calculate rotation of a_lms\n",
    "    wigner = spherical.Wigner(ell_max=lmax)\n",
    "    rotate_to_coord = quaternionic.array.from_euler_angles(psi, theta, -phi)\n",
    "    wigner_D_matrix_1D = wigner.D(rotate_to_coord)\n",
    "        \n",
    "    return wigner_D_matrix_1D"
   ]
  },
  {
   "cell_type": "code",
   "execution_count": 8,
   "id": "69089094",
   "metadata": {},
   "outputs": [],
   "source": [
    "def D_matrix_per_ell_2D(D_matrix_as_1D, ell, lmax):\n",
    "    \"\"\"\n",
    "    Unpacks the one-dimensional D-matrix into separate 2D-D-matrices \n",
    "    for the specific ell-mode (as the individual square D-matrices have \n",
    "    different sizes for each ell-mode)\n",
    "    \n",
    "    Parameters\n",
    "    ----------\n",
    "    \n",
    "    * D_matrix_as_1D (spheicral D-matrix object (1D array)):\n",
    "            Rotational matrix to perform the hour_angle rotation. One dimensional.\n",
    "    * ell (int):\n",
    "            Specific ell-mode to calculate the two-dimensional D-matrix for\n",
    "    * lmax (int): \n",
    "            Sets the number of modes (used for creating the `Wigner` object)      \n",
    "    \n",
    "    Returns\n",
    "    -------\n",
    "    \n",
    "    * D_matrix_as_2D (ndarray, 2D):\n",
    "            Rotational matrix to perform the hour_angle rotation for the given \n",
    "            ell-mode\n",
    "    \n",
    "    \n",
    "    \"\"\"\n",
    "    \n",
    "    assert ell <= lmax, \"ell has to be smaller or equal to lmax (ell <= lmax)\"\n",
    "    \n",
    "    m_range = np.arange(-ell,ell+1)\n",
    "    \n",
    "    # Make empty 2D D-matrix with correct shape given by m x mp\n",
    "    D_matrix_as_2D = np.zeros(shape=(np.size(m_range),np.size(m_range)), dtype=complex)\n",
    "        \n",
    "    m_count = 0\n",
    "    for m in m_range:\n",
    "        \n",
    "        mp_count=0\n",
    "\n",
    "        for mp in np.arange(-ell, ell+1):\n",
    "            # Get the correct value from the 1D D-matrix\n",
    "            index = WignerDindex(ell, mp, m, ell_min=0, mp_max=lmax)\n",
    "            value = D_matrix_as_1D[index]\n",
    "            \n",
    "            # Save it into the correct index in the 2D D-matrix\n",
    "            D_matrix_as_2D[m_count, mp_count] = value\n",
    "    \n",
    "            mp_count += 1\n",
    "\n",
    "        m_count += 1\n",
    "    \n",
    "    return D_matrix_as_2D"
   ]
  },
  {
   "cell_type": "code",
   "execution_count": 9,
   "id": "440605db",
   "metadata": {},
   "outputs": [],
   "source": [
    "# def rotate_modes_D_matrix(D_matrix_1D, modes, lmax):\n",
    "#     '''\n",
    "#     Calculate the separate D-matrices per ell-value, apply the rotations, combine into one modes-array\n",
    "    \n",
    "#     Parameters\n",
    "#     ----------\n",
    "    \n",
    "#     * D_matrix_1D (spheicral D-matrix object (1D array)):\n",
    "#             Rotational matrix to perform the hour_angle rotation. One dimensional.\n",
    "#     * modes (`spherical` modes object (complex)):\n",
    "#             Array of complex alms including both (+/-)m-modes.\n",
    "#             The array is ordered to fits with the `spherical code`.\n",
    "#     * lmax (int): \n",
    "#             Sets the number of modes (used for creating the `Wigner` object)      \n",
    "    \n",
    "#     Returns\n",
    "#     -------\n",
    "    \n",
    "#     * rotated_modes (`spherical` modes object (complex)):\n",
    "#             Array of *rotated* complex alms including both (+/-)m-modes.\n",
    "#             The array is ordered to fits with the `spherical code`.\n",
    "       \n",
    "#     '''\n",
    "#     # get pandas dataframe with indices ordered as (i, ell, m)\n",
    "#     my_wigner_df = get_index_dataframe(lmax)\n",
    "#     all_ell_list = my_wigner_df.copy().to_numpy()[:,0]\n",
    "    \n",
    "    \n",
    "#     D_rot_modes = np.zeros(shape=0, dtype=complex)\n",
    "\n",
    "#     for ell in np.arange(0,lmax+1):\n",
    "#         ell_value = ell\n",
    "#         indices = np.where(all_ell_list == ell_value)\n",
    "#         modes_per_ell = np.dot(D_matrix_per_ell_2D(D_matrix_1D, ell_value, lmax), modes[indices])\n",
    "#         rotated_modes = np.concatenate((rotated_modes, modes_per_ell), axis=0)\n",
    "        \n",
    "#     return rotated_modes"
   ]
  },
  {
   "cell_type": "code",
   "execution_count": 10,
   "id": "3eb500d9",
   "metadata": {},
   "outputs": [],
   "source": [
    "def combined_D_matrix(D_matrix_1D, lmax):\n",
    "    '''\n",
    "    Calculate the separate 2D D-matrices per ell-value, combined into one block diagonal matrix.\n",
    "    The rotated modes can then be calculated by a dot product: \n",
    "                    \n",
    "                    rotated_modes = np.dot(combined_D_matrix(D_matrix, lmax), modes)\n",
    "     \n",
    "    Parameters\n",
    "    ----------\n",
    "   \n",
    "    * D_matrix_1D (spheicral D-matrix object (1D array)):\n",
    "             Rotational matrix to perform the hour_angle rotation. One dimensional.\n",
    "\n",
    "    * lmax (int): \n",
    "             Sets the number of modes (used for creating the `Wigner` object)      \n",
    "    \n",
    "    Returns\n",
    "    -------\n",
    "    \n",
    "    * combined_D_matrix (ndarray):\n",
    "            Rotational matrix to perform the rotation via dot product\n",
    "\n",
    "\n",
    "    '''\n",
    "   \n",
    "    combined_D = np.zeros(shape=0, dtype=complex)\n",
    "\n",
    "    for ell in np.arange(0,lmax+1):\n",
    "        ell_value = ell\n",
    "        \n",
    "        D_matrix_2D = D_matrix_per_ell_2D(D_matrix_1D, ell_value, lmax)\n",
    "        \n",
    "        if ell_value == 0:\n",
    "            combined_D_matrix = D_matrix_2D\n",
    "        else:\n",
    "            combined_D_matrix = sp.linalg.block_diag(combined_D_matrix, D_matrix_2D)\n",
    "        \n",
    "    return combined_D_matrix\n",
    "\n",
    "# np.shape(combined_D_matrix(D_matrix, lmax))"
   ]
  },
  {
   "cell_type": "code",
   "execution_count": 11,
   "id": "4ecc2e54",
   "metadata": {},
   "outputs": [],
   "source": [
    "# def spherical_rotate_modes(modes, lmax, theta, phi, psi=0):\n",
    "#     \"\"\" Performs the actual ROTATIONS of the modes directly using the `spherical`\n",
    "#     code without calculating the wigner 𝔇-matrix.\n",
    "    \n",
    "#     Parameters\n",
    "#     ----------\n",
    "\n",
    "#     modes (`spherical` modes object):\n",
    "#         Wigner/`spherical` modes to rotate. Do not give it HEALpy alms\n",
    "#     lmax (int): \n",
    "#         Sets the number of modes (used for creating the `Wigner` object)\n",
    "\n",
    "#     phi: (radian) Corresponds to RA. Sign is automatically changed to fit with `spherical`\n",
    "#     theta: (radian) Corresponds to declination.\n",
    "#     psi: (radian) Is per default set to zero, but can be set if wanted.\n",
    "    \n",
    "    \n",
    "#     Returns\n",
    "#     -------\n",
    "    \n",
    "#     modes_rot (`spherical` modes object)\n",
    "#         The new/rotated modes given the input angles\n",
    "    \n",
    "#     Notes\n",
    "#     -----\n",
    "#     This assumes rotation Euler angles for `spherical` given by:\n",
    "    \n",
    "#       * zyz-convention\n",
    "#       * Order of rotations: phi --> theta --> psi\n",
    "#       * phi and theta are swapped compared to astropy \n",
    "#       * phi has the opposite sign compared to astropy\n",
    "\n",
    "#       ==> phi is equivalent to negative longitude/ RA\n",
    "#       ==> theta is latitude / dec>\n",
    "#       ==> psi should be set to zero\n",
    "      \n",
    "#     \"\"\"\n",
    "#     # FixMe: Make an assertion that the angles are actaully given in radian\n",
    "\n",
    "#     # Calculate rotation of a_lms\n",
    "#     wigner = spherical.Wigner(ell_max=lmax)\n",
    "#     rotate_to_coord = quaternionic.array.from_euler_angles(psi, theta, -phi)\n",
    "#     rotated_modes = wigner.rotate(modes, rotate_to_coord)\n",
    "        \n",
    "#     return rotated_modes"
   ]
  },
  {
   "cell_type": "markdown",
   "id": "1c8f5f59",
   "metadata": {
    "jp-MarkdownHeadingCollapsed": true,
    "tags": []
   },
   "source": [
    "## New rotation functions"
   ]
  },
  {
   "cell_type": "code",
   "execution_count": 135,
   "id": "30efe5f3",
   "metadata": {},
   "outputs": [],
   "source": [
    "def apply_D_matrix(block_diag_D_matrix, modes, lmax):\n",
    "    '''\n",
    "    Perform the rotation by taking a dot product with the wigner modes and\n",
    "    re-defining them as a wigner object.\n",
    "    \n",
    "    Parameters\n",
    "    ----------\n",
    "    \n",
    "    * bloack_diag_D_matrix(array):\n",
    "            Rotational matrix to perform the hour_angle rotation. Can be calculated\n",
    "            from the one-dimensional D-matrix by `combined_D_matrix(D_matrix_1D, lmax)`\n",
    "    * modes (`spherical` modes object (complex)):\n",
    "            Array of complex alms including both (+/-)m-modes.\n",
    "            The array is ordered to fits with the `spherical code`.\n",
    "    * lmax (int): \n",
    "            Sets the number of modes (used for creating the `Wigner` object)      \n",
    "    \n",
    "    Returns\n",
    "    -------\n",
    "    \n",
    "    * rotated_modes (`spherical` modes object (complex)):\n",
    "            Array of *rotated* complex alms including both (+/-)m-modes.\n",
    "            The array is ordered to fits with the `spherical code`.\n",
    "       \n",
    "    '''\n",
    "    \n",
    "    apply_D_matrix = np.dot(block_diag_D_matrix, modes)\n",
    "    rotated_modes = spherical.Modes(apply_D_matrix, spin_weight=0)\n",
    "\n",
    "    return rotated_modes\n",
    "    "
   ]
  },
  {
   "cell_type": "markdown",
   "id": "d8b93512",
   "metadata": {
    "jp-MarkdownHeadingCollapsed": true,
    "tags": []
   },
   "source": [
    "## New functions for manipulation of modes"
   ]
  },
  {
   "cell_type": "code",
   "execution_count": 314,
   "id": "18232965",
   "metadata": {},
   "outputs": [],
   "source": [
    "def create_alms(mode, lmax):\n",
    "    \"\"\"\n",
    "    Creating a double array of alms with real values only. \n",
    "    The output array represents all positive (+m) modes including zero \n",
    "    and has double length, as real and imaginary values are split. \n",
    "    The first half is the real values. \n",
    "    \n",
    "    All modes in the array is set to zero except for the mode set by \n",
    "    \"mode\". This should be interpreted as HEALpy ordering, meaning (m,l)\n",
    "    \n",
    "    Parameters\n",
    "    ----------\n",
    "    \n",
    "    * mode (int):\n",
    "            The mode index that you want to set to 1. \n",
    "    * lmax (int):\n",
    "            Maximum ell-value. Is only used to determine the total\n",
    "            number of modes\n",
    "            \n",
    "    \n",
    "    Returns\n",
    "    -------\n",
    "    \n",
    "    * alms (ndarray):\n",
    "            Array of zeros except for the specified mode. \n",
    "            The array represents all positive (+m) modes including zero \n",
    "            and has double length, as real and imaginary values are split. \n",
    "            The first half is the real values.\n",
    "    \n",
    "    Notes\n",
    "    ------\n",
    "    \n",
    "    The number of modes is set by the HEALpy convention\n",
    "    \n",
    "        nmodes_healpy = lmax * (2 * lmax + 1 - lmax) // 2 + lmax + 1 \n",
    "    \n",
    "    and then multiplies by two to separate the real and imaginary part ( in\n",
    "    order to have and effectively real array)\n",
    "    \n",
    "         nalms = 2 * nmodes_healpy\n",
    "    \n",
    "    \"\"\"\n",
    "    \n",
    "    nmodes_healpy = lmax * (2 * lmax + 1 - lmax) // 2 + lmax + 1 \n",
    "    nalms = 2 * nmodes_healpy\n",
    "    alms = np.zeros(nalms, dtype=np.float64)\n",
    "    alms[mode] = 1.    \n",
    "    \n",
    "    return alms"
   ]
  },
  {
   "cell_type": "code",
   "execution_count": 14,
   "id": "76492c9e",
   "metadata": {},
   "outputs": [],
   "source": [
    "def retrieve_alms(mode, nalms):\n",
    "    \"\"\"\n",
    "    Retrieving a double array of alms based on the total number of modes \n",
    "    present. The array has real values only. The output array represents \n",
    "    all positive (+m) modes including zero and has double length, as real\n",
    "    and imaginary values are split. The first half is the real values. \n",
    "    \n",
    "    All modes in the array is set to zero except for the mode set by \n",
    "    \"mode\". This should be interpreted as HEALpy ordering, meaning (m,l)\n",
    "    \n",
    "    Parameters\n",
    "    ----------\n",
    "    \n",
    "    * mode (int):\n",
    "            The mode index that you want to set to 1. \n",
    "    * nalms (int):\n",
    "            The total number of modes for a _real_ array of alms \n",
    "            (i.e. where the first half represents real-values and\n",
    "            the second half represents imaginary values (real, imag))\n",
    "            \n",
    "    \n",
    "    Returns\n",
    "    -------\n",
    "    \n",
    "    * alms (ndarray):\n",
    "            Array of zeros except for the specified mode. \n",
    "            The array represents all positive (+m) modes including zero \n",
    "            and has double length, as real and imaginary values are split. \n",
    "            The first half is the real values.\n",
    "    \n",
    "    \"\"\"\n",
    "    \n",
    "    alms = np.zeros(nalms, dtype=np.float64)\n",
    "    alms[mode] = 1    \n",
    "    \n",
    "    return alms"
   ]
  },
  {
   "cell_type": "code",
   "execution_count": 15,
   "id": "27a0c7bc",
   "metadata": {},
   "outputs": [],
   "source": [
    "def split_complex_array(complex_array):\n",
    "    \"\"\"\n",
    "    Takes a complex array and turns into a real array of double size \n",
    "    on axis=0, split as [real, imag].\n",
    "    \n",
    "         Parameters\n",
    "    ----------\n",
    "    * complex_array (ndarray (complex)):\n",
    "            Numpy array containing complex values.\n",
    "    \n",
    "    Returns\n",
    "    -------\n",
    "    * alms (ndarray of floats)\n",
    "           Real array of double size on axis 0. It is ordered with the real\n",
    "           values first and then the complex values. \n",
    "    \n",
    "    \"\"\"\n",
    "    \n",
    "    real_array = np.concatenate((complex_array.real,complex_array.imag))\n",
    "\n",
    "    return real_array"
   ]
  },
  {
   "cell_type": "code",
   "execution_count": 16,
   "id": "4e683a26",
   "metadata": {},
   "outputs": [],
   "source": [
    "def alms2modes(alms, lmax):\n",
    "    \"\"\"\n",
    "    Takes an array of (real) (l,+m)-alms where first half represent the real \n",
    "    values and the last half represents the imaginary values and \n",
    "    recombines it into a complex array including the (l, -m)-modes and \n",
    "    reorder to fit with the `spherical` (wigner) ordering.\n",
    "    \n",
    "     Parameters\n",
    "    ----------\n",
    "    \n",
    "    * alms (ndarray of floats):\n",
    "            Array of zeros except for the specified mode. \n",
    "            The array represents all positive (+m) modes including zero \n",
    "            and has double length, as real and imaginary values are split. \n",
    "            The first half is the real values.\n",
    "    * lmax (int):\n",
    "            Maximum ell-value. Determines the number of alms.    \n",
    "            \n",
    "    \n",
    "    Returns\n",
    "    -------\n",
    "    \n",
    "    * wigner_modes (`spherical` modes object (complex)):\n",
    "            Array of complex alms including both (+/-)m-modes.\n",
    "            The array is ordered to fits with the `spherical code`.\n",
    "\n",
    "    \n",
    "    Notes\n",
    "    ------\n",
    "    \n",
    "    When the negative m-modes are included, this rule is needed \n",
    "    to obtain a real field (for all ell):\n",
    "    \n",
    "        (a_l,+m).real = -(a_l,-m).real\n",
    "        (a_l,+m).imag = +(a_l,-m).imag\n",
    "      \n",
    "    \"\"\"\n",
    "\n",
    "    healpy_modes = alms[:int(np.size(alms)/2)] + 1.j*alms[int(np.size(alms)/2):]\n",
    "    n_negative_modes = int((lmax**2 + lmax)/2)    \n",
    "\n",
    "    # Rearrange the negative modes into correct HEALpy ordering              ## THIS IS THE BOTTLENECK \n",
    "    temp = healpy_modes[-n_negative_modes:]\n",
    "    neg_modes = np.empty(0, dtype=np.complex128)\n",
    "    for i in np.arange(1,lmax+1):  \n",
    "        keep = temp[-i:]\n",
    "        neg_modes = np.append(neg_modes,keep)\n",
    "\n",
    "        temp = temp[:-i]\n",
    "\n",
    "    # Assuring a real field\n",
    "    neg_modes = -neg_modes.real + 1.j*neg_modes.imag\n",
    "    \n",
    "    # Reordering and creating `spherical` modes object\n",
    "    combined_modes = np.concatenate((neg_modes,healpy_modes))\n",
    "    _, healpy2wigner, _, _, _ = ordering(lmax)\n",
    "    wigner_modes = spherical.Modes(combined_modes[healpy2wigner], spin_weight=0)\n",
    "   \n",
    "    return wigner_modes"
   ]
  },
  {
   "cell_type": "code",
   "execution_count": 18,
   "id": "25c2bbef",
   "metadata": {},
   "outputs": [],
   "source": [
    "def modes2healpy(modes, lmax):\n",
    "    \"\"\"\n",
    "    Takes a `spherical` Modes object of complex alms (including both\n",
    "    positive and negative m-modes) and turns it into a complex array of \n",
    "    alms without the negative m-modes.\n",
    "    The final array is ordered as in HEALpy.\n",
    "    \n",
    "     Parameters\n",
    "    ----------\n",
    "    * wigner_modes (`spherical` modes object (complex)):\n",
    "            Array of complex alms including both (+/-)m-modes.\n",
    "            The array is ordered to fits with the `spherical code`.\n",
    "    \n",
    "    * lmax (int):\n",
    "            Maximum ell-value. Determines the number of alms.    \n",
    "            \n",
    "    \n",
    "    Returns\n",
    "    -------\n",
    "    * healpy_modes (ndarray (complex))\n",
    "            Array of zeros except for the specified mode. \n",
    "            The array represents all positive (+m) modes including zeroth modes.\n",
    "    \"\"\"\n",
    "    \n",
    "    wigner2healpy, _, neg_modes_index, _, _ = ordering(lmax)\n",
    "    healpy_modes = modes.ndarray[wigner2healpy][neg_modes_index:]\n",
    "                                           \n",
    "    return healpy_modes"
   ]
  },
  {
   "cell_type": "code",
   "execution_count": 19,
   "id": "48577c1d",
   "metadata": {},
   "outputs": [],
   "source": [
    "def healpy2alms(healpy_modes):\n",
    "    \"\"\"\n",
    "    Takes a complex array of alms (positive modes only) and turns into\n",
    "    a real array of double size split as [real, imag].\n",
    "      \n",
    "     Parameters\n",
    "    ----------\n",
    "    * healpy_modes (ndarray (complex)):\n",
    "            Array of zeros except for the specified mode. \n",
    "            The array represents all positive (+m) modes including zeroth modes.\n",
    "    \n",
    "    Returns\n",
    "    -------\n",
    "    * alms (ndarray (floats))\n",
    "            Array of zeros except for the specified mode. \n",
    "            The array represents all positive (+m) modes including zero \n",
    "            and has double length, as real and imaginary values are split. \n",
    "            The first half is the real values.\n",
    "    \"\"\"\n",
    "    \n",
    "    #alms = np.concatenate((healpy_modes.real,healpy_modes.imag))\n",
    "    alms = split_complex_array(healpy_modes)\n",
    "        \n",
    "    return alms    "
   ]
  },
  {
   "cell_type": "code",
   "execution_count": 20,
   "id": "bac5b1ce",
   "metadata": {},
   "outputs": [],
   "source": [
    "def alms2healpy(alms):\n",
    "    \"\"\"\n",
    "    Takes a real array of 2*(number of modes) size split as [real, imag]\n",
    "    and turns it into a complex array of alms (positive modes only) ordered\n",
    "    as in HEALpy.\n",
    "      \n",
    "     Parameters\n",
    "    ----------\n",
    "    * alms (ndarray (floats))\n",
    "            Array of zeros except for the specified mode. \n",
    "            The array represents all positive (+m) modes including zero \n",
    "            and has double length, as real and imaginary values are split. \n",
    "            The first half is the real values.\n",
    "\n",
    "    \n",
    "    Returns\n",
    "    -------\n",
    "    * healpy_modes (ndarray (complex)):\n",
    "            Array of zeros except for the specified mode. \n",
    "            The array represents all positive (+m) modes including zeroth modes.\n",
    "            \n",
    "    \"\"\"\n",
    "    healpy_modes = alms[:int(np.size(alms)/2)] + 1.j*alms[int(np.size(alms)/2):]\n",
    "    \n",
    "    return healpy_modes"
   ]
  },
  {
   "cell_type": "markdown",
   "id": "ac0b46db",
   "metadata": {
    "jp-MarkdownHeadingCollapsed": true,
    "tags": []
   },
   "source": [
    "## Functions from `spherical_harmonic_visibility_simulator`"
   ]
  },
  {
   "cell_type": "code",
   "execution_count": 21,
   "id": "80961ae5",
   "metadata": {},
   "outputs": [],
   "source": [
    "# @jit\n",
    "def delay(alt, az, bl):\n",
    "    \"\"\"\n",
    "    Calculate the delay, tau, in ns between a baseline vector [x, y, z] \n",
    "    in metres, where x points East, and an Alt/Az coordinate (where \n",
    "    Azimuth = 0 in the East). The Alt/Az coords should be in radians.\n",
    "    \"\"\"\n",
    "    C = 299792458. # m/s\n",
    "    \n",
    "    # Calculate zenith angle\n",
    "    alt = np.atleast_1d(alt)\n",
    "    az = np.atleast_1d(az)\n",
    "    za = 0.5*np.pi - alt\n",
    "    \n",
    "    # Source vector\n",
    "    src_vec = np.array([np.sin(za)*np.cos(az), \n",
    "                        np.sin(za)*np.sin(az),\n",
    "                        np.cos(za)]).T\n",
    "    \n",
    "    # Return dot product\n",
    "    bl = np.atleast_2d(bl).T\n",
    "    return np.dot(src_vec, bl) / C * 1e9 # ns\n",
    "\n",
    "\n",
    "# @jit\n",
    "def fringe(alt, az, bl, freq=100.):\n",
    "    \"\"\"\n",
    "    Calculate the fringe pattern for a point source with position `alt`/`az` \n",
    "    (in rad), baseline vector `bl` ([x,y,z] in metres), and at frequency \n",
    "    `freq` (in MHz).\n",
    "    \"\"\"\n",
    "    tau = delay(alt, az, bl) # in ns\n",
    "    return np.exp(1.j * 2.*np.pi * tau * freq*1e-3)\n",
    "\n",
    "\n",
    "# @jit\n",
    "def horizon(alt, az):\n",
    "    m = np.ones(alt.size)\n",
    "    m[alt < 0.] = 0.\n",
    "    return m\n",
    "\n",
    "\n",
    "# @jit\n",
    "def gaussian_beam(alt, az, freq, diameter=14.):\n",
    "    C = 299792458. # m/s\n",
    "    width = C / (100.*1e6) / diameter # rad\n",
    "    return np.exp(-0.5 * (alt - 0.5*np.pi)**2. / width**2.)"
   ]
  },
  {
   "cell_type": "markdown",
   "id": "49ba8155",
   "metadata": {
    "jp-MarkdownHeadingCollapsed": true,
    "tags": []
   },
   "source": [
    "## Basic visibility response function"
   ]
  },
  {
   "cell_type": "code",
   "execution_count": 17,
   "id": "4bee25e3",
   "metadata": {},
   "outputs": [],
   "source": [
    "def modes2alms(modes, lmax):\n",
    "    \"\"\"\n",
    "    Takes a `spherical` Modes object of complex alms (including both\n",
    "    positive and negative m-modes) and turns it into a real array of \n",
    "    alms by removing the negative m-modes and splitting into real and\n",
    "    imaginary parts. The final array is ordered as in HEALpy, but \n",
    "    double in size.\n",
    "    \n",
    "     Parameters\n",
    "    ----------\n",
    "    * wigner_modes (`spherical` modes object (complex))\n",
    "            Array of complex alms including both (+/-)m-modes.\n",
    "            The array is ordered to fits with the `spherical code`.\n",
    "    \n",
    "    * lmax (int):\n",
    "            Maximum ell-value. Determines the number of alms.    \n",
    "            \n",
    "    \n",
    "    Returns\n",
    "    -------\n",
    "    * alms (ndarray of floats)\n",
    "            Array of zeros except for the specified mode. \n",
    "            The array represents all positive (+m) modes including zero \n",
    "            and has double length, as real and imaginary values are split. \n",
    "            The first half is the real values.\n",
    "    \"\"\"\n",
    "    \n",
    "    wigner2healpy, _, neg_modes_index, _, _ = ordering(lmax)\n",
    "    healpy_modes = modes.ndarray[wigner2healpy][neg_modes_index:]\n",
    "    alms = np.concatenate((healpy_modes.real, healpy_modes.imag))\n",
    "    \n",
    "    return alms"
   ]
  },
  {
   "cell_type": "code",
   "execution_count": 22,
   "id": "793e25a1",
   "metadata": {},
   "outputs": [],
   "source": [
    "# FIXME: healpy function nside2npix seems to cause issues unless forceobj=True\n",
    "#@jit(parallel=True, forceobj=True)\n",
    "def vis_sh_response_multi_rotations(bl, freqs, lmax, hour_angles=0, nside=64):\n",
    "    \"\"\"\n",
    "    Calculate the response of a baseline to a spherical harmonic \n",
    "    mode with unit amplitude (a_lm = 1) on the sky with a flat \n",
    "    frequency spectrum.\n",
    "    \n",
    "    Parameters:\n",
    "        bl (array_like):\n",
    "            Baseline [x,y,z] position in metres.\n",
    "\n",
    "        freqs (array_like):\n",
    "            Array of frequency values in MHz.\n",
    "\n",
    "        lmax (int):\n",
    "            Maximum ell value of spherical harmonic \n",
    "            modes to calculate.\n",
    "        \n",
    "        nside (int):\n",
    "            Healpix nside to use for the calculation (longer \n",
    "            baselines should use higher nside).\n",
    "        \n",
    "        hour_angle (float):\n",
    "            Hour angle given as fraction in decimal of a sidereal day. \n",
    "    \n",
    "    Returns:\n",
    "        response (array_like):\n",
    "            Visibility V_ij for each (l,m) mode, with shape \n",
    "            (N_alm, N_freqs).\n",
    "    \"\"\"\n",
    "    # Set the correct size of modes (double to account for real and imag-part)\n",
    "    nmodes_healpy = lmax * (2 * lmax + 1 - lmax) // 2 + lmax + 1 \n",
    "    nalms = 2 * nmodes_healpy\n",
    "    \n",
    "    # Get alt/az values for each pixel\n",
    "    npix = hp.nside2npix(nside)\n",
    "    ii = np.arange(npix)\n",
    "    az, alt = hp.pix2ang(nside, ii, lonlat=True)\n",
    "    alt = np.deg2rad(alt.flatten()) # radians\n",
    "    az = np.deg2rad(az.flatten()) # radians\n",
    "    \n",
    "    # Empty visibility response array\n",
    "    vis = np.zeros((hour_angles.size, nalms, freqs.size), dtype=np.complex128)\n",
    "    \n",
    "    # Horizon mask\n",
    "    mask_horizon = horizon(alt, az)\n",
    "    \n",
    "    for k in range(hour_angles.size):\n",
    "        # Calculate D-matrix\n",
    "        D_matrix = combined_D_matrix(D_matrix_1D(lmax, hour_angles[k]), lmax)\n",
    "\n",
    "        # Loop over frequencies\n",
    "        for i in range(freqs.size):\n",
    "\n",
    "            # Calculate fringe pattern times Gaussian primary beam squared times horizon mask\n",
    "            fringe_times_beamsq = fringe(alt, az, bl, freqs[i]).flatten() \\\n",
    "                                  * gaussian_beam(alt, az, freqs[i])**2. \\\n",
    "                                  * mask_horizon\n",
    "\n",
    "            # Loop over (l,m) modes\n",
    "            for j in range(nalms):\n",
    "\n",
    "                # Switch on one a_lm mode at a time and generate map\n",
    "                alms = create_alms(mode=j,lmax=lmax)\n",
    "                modes = alms2modes(alms,lmax)\n",
    "                rotated_modes = rotate_D_matrix(D_matrix, modes, lmax)\n",
    "                healpy_modes = modes2healpy(rotated_modes, lmax)\n",
    "\n",
    "                skymap = hp.sphtfunc.alm2map(healpy_modes, nside=nside)\n",
    "\n",
    "                # Calculate integral (FIXME: unnormalised!)\n",
    "                vis[k,j,i] = np.sum(skymap * fringe_times_beamsq)\n",
    "                \n",
    "        \n",
    "    \n",
    "    return vis"
   ]
  },
  {
   "cell_type": "code",
   "execution_count": 23,
   "id": "b501a851-4e08-426a-9291-28c34e55efd1",
   "metadata": {},
   "outputs": [],
   "source": [
    "#@jit(parallel=True, forceobj=True)\n",
    "def vis_sh_response_rot(bl, freqs, lmax, hour_angle=0, nside=64):\n",
    "    \"\"\"\n",
    "    Calculate the response of a baseline to a spherical harmonic \n",
    "    mode with unit amplitude (a_lm = 1) on the sky with a flat \n",
    "    frequency spectrum.\n",
    "    \n",
    "    Parameters:\n",
    "        bl (array_like):\n",
    "            Baseline [x,y,z] position in metres.\n",
    "\n",
    "        freqs (array_like):\n",
    "            Array of frequency values in MHz.\n",
    "\n",
    "        lmax (int):\n",
    "            Maximum ell value of spherical harmonic \n",
    "            modes to calculate.\n",
    "        \n",
    "        nside (int):\n",
    "            Healpix nside to use for the calculation (longer \n",
    "            baselines should use higher nside).\n",
    "        \n",
    "        hour_angle (float):\n",
    "            Hour angle given as fraction in decimal of a sidereal day. Default: no rotation.\n",
    "    \n",
    "    Returns:\n",
    "        response (array_like):\n",
    "            Visibility V_ij for each real- and imaginary part of the (l,m) modes, with shape \n",
    "            (2xN_alm, N_freqs).\n",
    "    \"\"\"\n",
    "    # Set the correct size of modes (double to account for real and imag-part)\n",
    "    nmodes_healpy = lmax * (2 * lmax + 1 - lmax) // 2 + lmax + 1 \n",
    "    nalms = 2 * nmodes_healpy\n",
    "    \n",
    "    # Get alt/az values for each pixel\n",
    "    npix = hp.nside2npix(nside)\n",
    "    ii = np.arange(npix)\n",
    "    az, alt = hp.pix2ang(nside, ii, lonlat=True)\n",
    "    alt = np.deg2rad(alt.flatten()) # radians\n",
    "    az = np.deg2rad(az.flatten()) # radians\n",
    "    \n",
    "    # Empty visibility response array\n",
    "    vis = np.zeros((nalms, freqs.size), dtype=np.complex128)\n",
    "    \n",
    "    # Horizon mask\n",
    "    mask_horizon = horizon(alt, az)\n",
    "    \n",
    "\n",
    "    # Calculate D-matrix\n",
    "    D_matrix = combined_D_matrix(D_matrix_1D(lmax, hour_angle), lmax)\n",
    "\n",
    "    # Loop over frequencies\n",
    "    for i in range(freqs.size):\n",
    "\n",
    "        # Calculate fringe pattern times Gaussian primary beam squared times horizon mask\n",
    "        fringe_times_beamsq = fringe(alt, az, bl, freqs[i]).flatten() \\\n",
    "                              * gaussian_beam(alt, az, freqs[i])**2. \\\n",
    "                              * mask_horizon\n",
    "\n",
    "        # Loop over (l,m) modes\n",
    "        for j in range(nalms):\n",
    "\n",
    "            # Switch on one a_lm mode at a time and generate map\n",
    "            alms = create_alms(mode=j,lmax=lmax)\n",
    "            modes = alms2modes(alms,lmax)\n",
    "            rotated_modes = rotate_D_matrix(D_matrix, modes, lmax)\n",
    "            healpy_modes = modes2healpy(rotated_modes, lmax)\n",
    "\n",
    "            skymap = hp.sphtfunc.alm2map(healpy_modes, nside=nside)\n",
    "\n",
    "            # Calculate integral (FIXME: unnormalised!)\n",
    "            vis[j,i] = np.sum(skymap * fringe_times_beamsq)\n",
    "                \n",
    "        \n",
    "    \n",
    "    return vis"
   ]
  },
  {
   "cell_type": "code",
   "execution_count": 24,
   "id": "f9a7e065",
   "metadata": {},
   "outputs": [],
   "source": [
    "#@jit(parallel=True, forceobj=True)\n",
    "def vis_sh_response_basic(bl, freqs, lmax, nside=64):\n",
    "    \"\"\"\n",
    "    Calculate the response of a baseline to a spherical harmonic \n",
    "    mode with unit amplitude (a_lm = 1) on the sky with a flat \n",
    "    frequency spectrum.\n",
    "    \n",
    "    Parameters:\n",
    "        bl (array_like):\n",
    "            Baseline [x,y,z] position in metres.\n",
    "\n",
    "        freqs (array_like):\n",
    "            Array of frequency values in MHz.\n",
    "\n",
    "        lmax (int):\n",
    "            Maximum ell value of spherical harmonic \n",
    "            modes to calculate.\n",
    "        \n",
    "        nside (int):\n",
    "            Healpix nside to use for the calculation (longer \n",
    "            baselines should use higher nside).\n",
    "           \n",
    "    Returns:\n",
    "        response (array_like):\n",
    "            Visibility V_ij for each real- and imaginary part of the (l,m) modes, with shape \n",
    "            (2xN_alm, N_freqs).\n",
    "    \"\"\"\n",
    "    # Set the correct size of modes (double to account for real and imag-part)\n",
    "    nmodes_healpy = lmax * (2 * lmax + 1 - lmax) // 2 + lmax + 1 \n",
    "    nalms = 2 * nmodes_healpy\n",
    "    \n",
    "    # Get alt/az values for each pixel\n",
    "    npix = hp.nside2npix(nside)\n",
    "    ii = np.arange(npix)\n",
    "    az, alt = hp.pix2ang(nside, ii, lonlat=True)\n",
    "    alt = np.deg2rad(alt.flatten()) # radians\n",
    "    az = np.deg2rad(az.flatten()) # radians\n",
    "    \n",
    "    # Empty visibility response array\n",
    "    vis = np.zeros((nalms, freqs.size), dtype=np.complex128)\n",
    "    \n",
    "    # Horizon mask\n",
    "    mask_horizon = horizon(alt, az)\n",
    "\n",
    "    # Loop over frequencies\n",
    "    for i in range(freqs.size):\n",
    "\n",
    "        # Calculate fringe pattern times Gaussian primary beam squared times horizon mask\n",
    "        fringe_times_beamsq = fringe(alt, az, bl, freqs[i]).flatten() \\\n",
    "                              * gaussian_beam(alt, az, freqs[i])**2. \\\n",
    "                              * mask_horizon\n",
    "\n",
    "        # Loop over (l,m) modes\n",
    "        for j in range(nalms):\n",
    "\n",
    "            # Switch on one a_lm mode at a time and generate map\n",
    "            alms = create_alms(mode=j,lmax=lmax)\n",
    "            healpy_modes = alms2healpy(alms)\n",
    "\n",
    "            skymap = hp.sphtfunc.alm2map(healpy_modes, nside=nside)\n",
    "\n",
    "            # Calculate integral (FIXME: unnormalised!)\n",
    "            vis[j,i] = np.sum(skymap * fringe_times_beamsq)\n",
    "                \n",
    "        \n",
    "    \n",
    "    return vis"
   ]
  },
  {
   "cell_type": "markdown",
   "id": "4c26b105-97fd-41ba-ba0d-30e98d5430dc",
   "metadata": {
    "tags": []
   },
   "source": [
    "## Precompute and apply operator"
   ]
  },
  {
   "cell_type": "code",
   "execution_count": 210,
   "id": "ff122fc5-c8c0-4944-b138-da9794f90d6a",
   "metadata": {},
   "outputs": [],
   "source": [
    "def precompute_op(freqs, lst_ref, beams, ant_pos, lmax, nside):\n",
    "    \"\"\"\n",
    "    Precompute the real and imaginary blocks of the visibility response \n",
    "    operator. This should only be done once and then \"apply_operator()\"\n",
    "    is used to get the actual visibilities.\n",
    "    \n",
    "    Parameters\n",
    "    ----------\n",
    "   \n",
    "    * freqs (array_like):\n",
    "            Frequencies, in MHz.\n",
    "    \n",
    "    * lst_ref (float or int):\n",
    "            Reference LST of the observation, in radians.\n",
    "    \n",
    "    * beams (list of pyuvbeam):\n",
    "            List of pyuveam objects, one for each antenna\n",
    "            \n",
    "    * ant_pos (dict):\n",
    "            Dictionary of antenna positions, [x, y, z], in m. The keys should\n",
    "            be the numerical antenna IDs.    \n",
    "            \n",
    "    * lmax (int):\n",
    "            Maximum ell value. Determines the number of modes used.\n",
    "             \n",
    "    * nside (int):\n",
    "            Healpix nside to use for the calculation (longer baselines should \n",
    "            use higher nside).\n",
    "    \n",
    "    Returns\n",
    "    -------\n",
    "    \n",
    "    * vis_response (array_like):\n",
    "            Visibility response (δV_ij) for each (l,m) mode, frequency and \n",
    "            baseline for a given reference LST. Shape (N_bl, N_freqs, N_alms).\n",
    "    \n",
    "    \"\"\"\n",
    "       \n",
    "    ell, m, vis_alm = hydra.vis_simulator.simulate_vis_per_alm(lmax=lmax, \n",
    "                                                           nside=nside, \n",
    "                                                           ants=ant_pos, \n",
    "                                                           freqs=freqs, \n",
    "                                                           lsts=lst_ref, \n",
    "                                                           beams=beams)\n",
    "    ants = list(ant_pos.keys())\n",
    "    antpairs = []\n",
    "    for i in ants:\n",
    "        for j in ants:\n",
    "            if j >= i:\n",
    "                antpairs.append((ants[i],ants[j]))\n",
    "    \n",
    "    vis_response = np.zeros((len(antpairs), len(freqs), 2*len(ell)), dtype=np.complex128)\n",
    "\n",
    "    for i, bl in enumerate(antpairs):\n",
    "        idx1 = ants.index(bl[0])\n",
    "        idx2 = ants.index(bl[1])\n",
    "        vis_response[i, :, :] = vis_alm[:, 0, idx1, idx2, :]\n",
    "        \n",
    "    return vis_response"
   ]
  },
  {
   "cell_type": "code",
   "execution_count": 226,
   "id": "a06a8094-03fd-4937-8c73-fb70bdb33eb0",
   "metadata": {},
   "outputs": [],
   "source": [
    "def apply_operator(alms, vis_response, times, lmax):\n",
    "    \"\"\"\n",
    "    Applys visibility reponse operator to a set of alms for given times/rotations\n",
    "    of hour angles.\n",
    "    \n",
    "    Parameters\n",
    "    ----------\n",
    "    * alms (ndarray of floats):\n",
    "            Array of spherical harmonic alm-modes. The array represents all positive \n",
    "            (+m) modes including zero and has double length, as real and imaginary \n",
    "            values are split. The first half is the real values.\n",
    "            \n",
    "    * vis_response (array_like):\n",
    "            Visibility response (δV_ij) for each (l,m) mode, frequency and \n",
    "            baseline for a given reference LST. Shape (N_bl, N_freqs, N_alms).\n",
    "            \n",
    "    * times (array):\n",
    "            Array of observation times given as a fractions of a sidereal day, where \n",
    "            1 is a full sidereal day. \n",
    "            \n",
    "    * lmax (int):\n",
    "            Maximum ell value. Determines the number of modes used.\n",
    "    \n",
    "    Returns\n",
    "    -------\n",
    "    \n",
    "    * Visibility (array_like):\n",
    "            Visibility Vij with shape (N_bl, N_times, N_freqs) \n",
    "    \n",
    "    \"\"\"\n",
    "    \n",
    "    modes = alms2modes(alms,lmax)\n",
    "    \n",
    "    Nbl = vis_response.shape[0]\n",
    "    Nfreqs = vis_response.shape[1]\n",
    "    \n",
    "    visibility = np.zeros((Nbl, len(times), Nfreqs), dtype=np.complex128)\n",
    "    \n",
    "    for i in range(times.size):\n",
    "        D_matrix = combined_D_matrix(D_matrix_1D(lmax, times[i]), lmax)\n",
    "        rotated_modes = apply_D_matrix(D_matrix, modes, lmax)\n",
    "\n",
    "        visibility[:,i,:] = vis_response @ modes2alms(rotated_modes,lmax)\n",
    "    \n",
    "    return visibility\n"
   ]
  },
  {
   "cell_type": "markdown",
   "id": "de2cfa16-0922-439b-9b18-37372c8b06e3",
   "metadata": {
    "tags": []
   },
   "source": [
    "# [EXAMPLE SCRIPT] for the full calculation"
   ]
  },
  {
   "cell_type": "markdown",
   "id": "ec5fa70e-bc9b-4275-a69b-407192f088c9",
   "metadata": {},
   "source": [
    "### Choosing resolution: lmax and nside"
   ]
  },
  {
   "cell_type": "code",
   "execution_count": 315,
   "id": "de337248-a67f-404e-b0d3-4192de7630b6",
   "metadata": {},
   "outputs": [],
   "source": [
    "lmax = 15\n",
    "nside = 64"
   ]
  },
  {
   "cell_type": "markdown",
   "id": "360f6452-2fef-4351-a8c6-f27645178e71",
   "metadata": {},
   "source": [
    "### Setting antennas, beams, frequencies, reference lst and rotations/times"
   ]
  },
  {
   "cell_type": "code",
   "execution_count": 316,
   "id": "9c73b0f4-24d4-4027-883e-44bc50179bf8",
   "metadata": {},
   "outputs": [],
   "source": [
    "ant_pos = {0: (0., 0., 0.), \n",
    "           1: (14., 0., 0.)}\n",
    "beams = [pyuvsim.AnalyticBeam('airy', diameter=8.) for ant in ants]\n",
    "freqs=np.linspace(100e6, 200e6, 20)\n",
    "\n",
    "# One reference lst (there's no thought put into this choice) \n",
    "lst_ref = 1.\n",
    "\n",
    "# Time of rotation given as fraction of a sidereal day\n",
    "hour_angles = np.linspace(0, 1, 50)# * units.hour"
   ]
  },
  {
   "cell_type": "markdown",
   "id": "55090742-d3c9-4d9c-b57f-593ef005462a",
   "metadata": {},
   "source": [
    "### [!] alms to test on, these are the variable to sample in the sampler though, so this should not be included there"
   ]
  },
  {
   "cell_type": "code",
   "execution_count": 317,
   "id": "154a1ebf-7b1f-4f18-9036-5b6efc79f294",
   "metadata": {},
   "outputs": [],
   "source": [
    "nmodes_healpy = lmax * (2 * lmax + 1 - lmax) // 2 + lmax + 1  \n",
    "nalms = 2*nmodes_healpy\n",
    "mock_alms = np.random.rand(nalms)*10"
   ]
  },
  {
   "cell_type": "markdown",
   "id": "a94b00c5-38d8-44f6-b549-76682399cb77",
   "metadata": {},
   "source": [
    "### Run `precompute_op()` and `apply_operator()`"
   ]
  },
  {
   "cell_type": "code",
   "execution_count": 318,
   "id": "7486e943-c58b-4eb6-a7d7-e5d08782fde9",
   "metadata": {},
   "outputs": [
    {
     "name": "stdout",
     "output_type": "stream",
     "text": [
      "Run took 7.986 sec\n"
     ]
    }
   ],
   "source": [
    "t0 = time.time()\n",
    "vis_response = precompute_op(freqs, lst_ref, beams, ant_pos, lmax, nside)\n",
    "visibility = apply_operator(mock_alms, vis_response, hour_angles, lmax)\n",
    "print(\"Run took %5.3f sec\" % (time.time() - t0))"
   ]
  },
  {
   "cell_type": "markdown",
   "id": "3fe9206d-d9c9-4c17-b681-a7dcd921eaa6",
   "metadata": {},
   "source": [
    "# [✓] Test that it retrieves the same thing within a margin of error of 1e-06"
   ]
  },
  {
   "cell_type": "markdown",
   "id": "458b110b-7a69-43e8-9ec4-de6aeebc414d",
   "metadata": {
    "tags": []
   },
   "source": [
    "### [✓] Are modes rotated with hour angle = 0 the same as the original non-rotated modes?"
   ]
  },
  {
   "cell_type": "code",
   "execution_count": 355,
   "id": "a0f54369-59eb-44c4-b7cb-17c5966e397b",
   "metadata": {},
   "outputs": [],
   "source": [
    "err = 1e-13"
   ]
  },
  {
   "cell_type": "code",
   "execution_count": 356,
   "id": "c9befb72-9d4d-47ba-9127-c2671a1c8e22",
   "metadata": {},
   "outputs": [],
   "source": [
    "D_matrix = combined_D_matrix(D_matrix_1D(lmax, hour_angles[0]), lmax)\n",
    "rotated_modes = apply_D_matrix(D_matrix, alms2modes(mock_alms,lmax), lmax)"
   ]
  },
  {
   "cell_type": "code",
   "execution_count": 357,
   "id": "f36d53e5-4cee-415f-9d4e-73f73c0dbcd6",
   "metadata": {},
   "outputs": [
    {
     "name": "stdout",
     "output_type": "stream",
     "text": [
      "Are the 0-hr rotated and original alms the same?  True\n"
     ]
    }
   ],
   "source": [
    "print(\"Are the 0-hr rotated and original alms the same? \",np.all((rotated_modes.ndarray - alms2modes(mock_alms,lmax).ndarray) <= (0 + err)) == True)"
   ]
  },
  {
   "cell_type": "markdown",
   "id": "e522afc3-a3bb-437b-aeaf-e6621ac69b8b",
   "metadata": {
    "tags": []
   },
   "source": [
    "### [✓] Is the visibility of rotating of an hour angle of 0, the same as applying the vis_response directly to the alms\n",
    "### [✓] Also a check that it matches zeroth rotation of the big visibility array"
   ]
  },
  {
   "cell_type": "code",
   "execution_count": 358,
   "id": "51dab89b-c624-4745-b177-9f1eb8c10d82",
   "metadata": {},
   "outputs": [
    {
     "name": "stdout",
     "output_type": "stream",
     "text": [
      "Are the 0hr rotated visibilities the same as not rotating?\n",
      "True\n",
      "True\n",
      "True\n"
     ]
    }
   ],
   "source": [
    "visibility0 = apply_operator(mock_alms, vis_response, np.array([0]), lmax)\n",
    "visibility00 = vis_response @ mock_alms\n",
    "\n",
    "print(\"Are the 0hr rotated visibilities the same as not rotating?\")\n",
    "print(np.all((visibility0[:,0,:] - visibility[:,0,:])  <= (0 + err)) == True)\n",
    "print(np.all((visibility0[:,0,:] - visibility00)  <= (0 + err)) == True)\n",
    "print(np.all((visibility[:,0,:] - visibility00)  <= (0 + err)) == True)"
   ]
  },
  {
   "cell_type": "markdown",
   "id": "92879dc5-8d58-425c-a4a6-f2428ac0ed42",
   "metadata": {
    "jp-MarkdownHeadingCollapsed": true,
    "tags": []
   },
   "source": [
    "# \"Note book/work book\":"
   ]
  },
  {
   "cell_type": "markdown",
   "id": "99c27c4f",
   "metadata": {
    "jp-MarkdownHeadingCollapsed": true,
    "tags": []
   },
   "source": [
    "## Using the basic visibility response function"
   ]
  },
  {
   "cell_type": "code",
   "execution_count": 25,
   "id": "e13b1ff8",
   "metadata": {},
   "outputs": [],
   "source": [
    "# Reference observation time\n",
    "obstime0 = Time('2022-06-27T01:02:30.11', format='isot', scale='utc') \n",
    "\n",
    "# Second observation time \n",
    "obstime1 = Time('2022-06-27T03:02:30.11', format='isot', scale='utc') \n",
    "\n",
    "# Time of rotation given as fraction of a sidereal day\n",
    "hour_angles = np.linspace(0, 1, 24)# * units.hour\n",
    "\n",
    "lmax = 15\n",
    "nside = 64\n",
    "\n",
    "bl = [14.,0.,0.]\n",
    "freqs=np.linspace(100., 200., 20)"
   ]
  },
  {
   "cell_type": "markdown",
   "id": "33d81889-ef85-4baf-91e2-68f7055ea20a",
   "metadata": {
    "tags": []
   },
   "source": [
    "## Precomputing the basic response function"
   ]
  },
  {
   "cell_type": "code",
   "execution_count": 26,
   "id": "8263573c-efe2-4b07-a821-ef4588f6605b",
   "metadata": {},
   "outputs": [
    {
     "name": "stdout",
     "output_type": "stream",
     "text": [
      "Run took 4.103 sec\n"
     ]
    }
   ],
   "source": [
    "t0 = time.time()\n",
    "vis_response = vis_sh_response_basic(bl, freqs, lmax, nside=64)\n",
    "time_response = time.time() - t0\n",
    "print(\"Run took %5.3f sec\" % (time_response))"
   ]
  },
  {
   "cell_type": "markdown",
   "id": "012dc3f5-f66a-4885-a444-6e0264b71704",
   "metadata": {
    "tags": []
   },
   "source": [
    "## Precomputing the D-matrices"
   ]
  },
  {
   "cell_type": "code",
   "execution_count": 27,
   "id": "4eb6aa9f-3860-4b20-9096-97de2adba3df",
   "metadata": {},
   "outputs": [],
   "source": [
    "nmodes_wigner = lmax*(lmax+2)+1"
   ]
  },
  {
   "cell_type": "code",
   "execution_count": 28,
   "id": "04942af1-e710-4406-9499-debe793f41f4",
   "metadata": {},
   "outputs": [
    {
     "name": "stdout",
     "output_type": "stream",
     "text": [
      "Run took 0.300 sec\n"
     ]
    }
   ],
   "source": [
    "t0 = time.time()\n",
    "D_matrices = np.zeros((hour_angles.size,nmodes_wigner, nmodes_wigner), dtype=np.complex128)\n",
    "\n",
    "for i in range(hour_angles.size):\n",
    "    # Calculate D-matrix\n",
    "    D_matrices[i,:,:] = combined_D_matrix(D_matrix_1D(lmax, hour_angles[i]), lmax)\n",
    "    \n",
    "time_d_matrix = time.time() - t0\n",
    "print(\"Run took %5.3f sec\" % (time_d_matrix))"
   ]
  },
  {
   "cell_type": "markdown",
   "id": "84ea4a6a-09d4-46de-b9ba-d3f3bb58414e",
   "metadata": {
    "jp-MarkdownHeadingCollapsed": true,
    "tags": []
   },
   "source": [
    "#### Check that it stores it correctly:"
   ]
  },
  {
   "cell_type": "code",
   "execution_count": 29,
   "id": "05d030d8-985f-4448-b3ff-98e6047746c4",
   "metadata": {},
   "outputs": [],
   "source": [
    "D_matrix_0 = combined_D_matrix(D_matrix_1D(lmax, hour_angles[0]), lmax)"
   ]
  },
  {
   "cell_type": "code",
   "execution_count": 30,
   "id": "dc3dd825-00f6-40d0-b2ee-758c4dd87c1a",
   "metadata": {},
   "outputs": [
    {
     "data": {
      "text/plain": [
       "array([[ True,  True,  True, ...,  True,  True,  True],\n",
       "       [ True,  True,  True, ...,  True,  True,  True],\n",
       "       [ True,  True,  True, ...,  True,  True,  True],\n",
       "       ...,\n",
       "       [ True,  True,  True, ...,  True,  True,  True],\n",
       "       [ True,  True,  True, ...,  True,  True,  True],\n",
       "       [ True,  True,  True, ...,  True,  True,  True]])"
      ]
     },
     "execution_count": 30,
     "metadata": {},
     "output_type": "execute_result"
    }
   ],
   "source": [
    "D_matrices[0,:,:] == D_matrix_0"
   ]
  },
  {
   "cell_type": "markdown",
   "id": "029fa1e7-75b7-4ca6-914c-be23d5473eef",
   "metadata": {
    "tags": []
   },
   "source": [
    "## Rotating the alms"
   ]
  },
  {
   "cell_type": "markdown",
   "id": "bdec7938-ff58-40b2-8067-6cea28a44325",
   "metadata": {},
   "source": [
    "First creating some mock alms to check shapes work. Note that these are 0 everywhere and 1 at the given mode, so not really representative of anything but the size"
   ]
  },
  {
   "cell_type": "code",
   "execution_count": 31,
   "id": "a9c8cee8-86ea-420a-9012-debf72ff9bd7",
   "metadata": {},
   "outputs": [],
   "source": [
    "mock_alms = create_alms(mode=42,lmax=lmax)\n",
    "\n",
    "modes = alms2modes(mock_alms,lmax)"
   ]
  },
  {
   "cell_type": "code",
   "execution_count": 32,
   "id": "49cd5978-83ab-45b8-9c9a-f0d9a3f64eff",
   "metadata": {},
   "outputs": [],
   "source": [
    "# t0 = time.time()\n",
    "# for i in range(hour_angles.size):\n",
    "#     if i == 0:      \n",
    "#         rotated_modes = rotate_D_matrix(D_matrices[i,:,:], modes, lmax)\n",
    "#         healpy_modes = modes2healpy(rotated_modes, lmax)\n",
    "#         skymap0 = hp.sphtfunc.alm2map(healpy_modes, nside=nside)\n",
    "#         skymaps = np.zeros((hour_angles.size,skymap0.size))\n",
    "#         skymaps[i] = skymap0\n",
    "#     else:\n",
    "#         rotated_modes = rotate_D_matrix(D_matrices[i,:,:], modes, lmax)\n",
    "#         healpy_modes = modes2healpy(rotated_modes, lmax)\n",
    "#         skymaps[i] = hp.sphtfunc.alm2map(healpy_modes, nside=nside)\n",
    "\n",
    "# time_rotation = time.time() - t0\n",
    "# print(\"Run took %5.3f sec\" % (time_rotation))"
   ]
  },
  {
   "cell_type": "code",
   "execution_count": 136,
   "id": "e3940c74-053e-4514-b5b0-4159aa2d7b36",
   "metadata": {},
   "outputs": [
    {
     "name": "stdout",
     "output_type": "stream",
     "text": [
      "Run took 0.120 sec\n"
     ]
    }
   ],
   "source": [
    "t0 = time.time()\n",
    "rotated_alms = np.zeros((hour_angles.size, mock_alms.size))\n",
    "for i in range(hour_angles.size):    \n",
    "    rotated_modes = apply_D_matrix(D_matrices[i,:,:], modes, lmax)\n",
    "    rotated_alms[i,:] = modes2alms(rotated_modes,lmax)\n",
    "\n",
    "time_rotation = time.time() - t0\n",
    "print(\"Run took %5.3f sec\" % (time_rotation))"
   ]
  },
  {
   "cell_type": "code",
   "execution_count": null,
   "id": "691f45de-d8b4-466c-823b-5cc66c38338e",
   "metadata": {},
   "outputs": [],
   "source": []
  },
  {
   "cell_type": "markdown",
   "id": "f891525e-14a7-45f6-a3c0-b4d607b64764",
   "metadata": {
    "tags": []
   },
   "source": [
    "## Combining the response and rotations"
   ]
  },
  {
   "cell_type": "markdown",
   "id": "bd6fa1c5-ce40-4e95-bbf3-7db0982b6196",
   "metadata": {},
   "source": [
    "### Correcting the shapes so that they can be multiplied"
   ]
  },
  {
   "cell_type": "code",
   "execution_count": 34,
   "id": "cae49569-2982-4fdd-80aa-36004f66743c",
   "metadata": {},
   "outputs": [
    {
     "name": "stdout",
     "output_type": "stream",
     "text": [
      "visibility response shape: (nalms, freq) = (272, 20)\n",
      "rotated healpy_modes has shape (hour_angle, nalms) =(24, 272)\n"
     ]
    }
   ],
   "source": [
    "print(f\"visibility response shape: (nalms, freq) = {vis_response.shape}\")\n",
    "# print(f\"rotated maps shape: (hour_angles, pixel) = {skymaps.shape}\")\n",
    "print(f\"rotated healpy_modes has shape (hour_angle, nalms) ={rotated_alms.shape}\")"
   ]
  },
  {
   "cell_type": "code",
   "execution_count": 35,
   "id": "9e398a1c-39c4-4302-9996-42abbfcee047",
   "metadata": {},
   "outputs": [],
   "source": [
    "vis_response_extra_axis = vis_response[np.newaxis,:, :]\n",
    "rotated_alms_extra_axis = rotated_alms[:,:, np.newaxis]\n",
    "\n",
    "visibility = vis_response_extra_axis * rotated_alms_extra_axis"
   ]
  },
  {
   "cell_type": "code",
   "execution_count": 36,
   "id": "5a252fc7-f44c-47d5-9ab0-079bdb39bf09",
   "metadata": {},
   "outputs": [
    {
     "data": {
      "text/plain": [
       "(24, 272, 20)"
      ]
     },
     "execution_count": 36,
     "metadata": {},
     "output_type": "execute_result"
    }
   ],
   "source": [
    "visibility.shape"
   ]
  },
  {
   "cell_type": "code",
   "execution_count": 37,
   "id": "7373b092-e291-4e1a-9d8f-27b97e88304a",
   "metadata": {},
   "outputs": [
    {
     "data": {
      "text/plain": [
       "(24, 20)"
      ]
     },
     "execution_count": 37,
     "metadata": {},
     "output_type": "execute_result"
    }
   ],
   "source": [
    "summed_vis = np.sum(visibility, axis=1)\n",
    "summed_vis.shape"
   ]
  },
  {
   "cell_type": "markdown",
   "id": "57246c6b-0049-4ce3-9f2a-191216110e31",
   "metadata": {
    "jp-MarkdownHeadingCollapsed": true,
    "tags": []
   },
   "source": [
    "## Total time of the functions in the run"
   ]
  },
  {
   "cell_type": "code",
   "execution_count": 38,
   "id": "e07ea9e7-9e88-4be9-98d5-d295822be52e",
   "metadata": {},
   "outputs": [
    {
     "name": "stdout",
     "output_type": "stream",
     "text": [
      "Total run took 4.500 sec\n"
     ]
    }
   ],
   "source": [
    "total_time = time_response + time_d_matrix + time_rotation\n",
    "print(\"Total run took %5.3f sec\" % (total_time))"
   ]
  },
  {
   "cell_type": "code",
   "execution_count": null,
   "id": "906d458b-2536-4124-8f67-c3fdf9292273",
   "metadata": {},
   "outputs": [],
   "source": []
  },
  {
   "cell_type": "markdown",
   "id": "f36efd4a-51f7-4347-99f5-7cad780d618e",
   "metadata": {
    "jp-MarkdownHeadingCollapsed": true,
    "tags": []
   },
   "source": [
    "## Using the Hydra visibility response function"
   ]
  },
  {
   "cell_type": "code",
   "execution_count": 205,
   "id": "485c264a-929c-4f16-baa7-0fa8bfb37451",
   "metadata": {},
   "outputs": [],
   "source": [
    "# Antenna array\n",
    "ant_pos = {0: (0., 0., 0.),\n",
    "        1: (14., 0., 0.)}\n",
    "\n",
    "ants = list(ant_pos.keys())\n",
    "\n",
    "# Beams\n",
    "beams = [pyuvsim.AnalyticBeam('airy', diameter=8.) for ant in ants]\n",
    "\n",
    "# Frequency\n",
    "# freqs=[100e6,]\n",
    "freqs=np.linspace(100., 200., 20)\n",
    "\n",
    "# One reference lst (there's no thought put into this choice) \n",
    "lst_ref = 1.\n",
    "\n",
    "# Time of rotation given as fraction of a sidereal day\n",
    "hour_angles = np.linspace(0, 1, 50)# * units.hour"
   ]
  },
  {
   "cell_type": "markdown",
   "id": "dd63cd68-09f7-4cc2-942a-253f85a7818c",
   "metadata": {
    "jp-MarkdownHeadingCollapsed": true,
    "tags": []
   },
   "source": [
    "### Calculating visibilities pr alm-mode"
   ]
  },
  {
   "cell_type": "code",
   "execution_count": 168,
   "id": "6b8e820f-61d9-420b-9c6d-d396bbc5fb81",
   "metadata": {},
   "outputs": [
    {
     "name": "stdout",
     "output_type": "stream",
     "text": [
      "Run took  6.386 sec\n"
     ]
    }
   ],
   "source": [
    "t0 = time.time()\n",
    "ell, m, vis_alm = hydra.vis_simulator.simulate_vis_per_alm(lmax=lmax, \n",
    "                                                           nside=nside, \n",
    "                                                           ants=ant_pos, \n",
    "                                                           freqs=freqs, \n",
    "                                                           lsts=lst_ref, \n",
    "                                                           beams=beams)\n",
    "print(\"Run took %6.3f sec\" % (time.time() - t0))"
   ]
  },
  {
   "cell_type": "code",
   "execution_count": 201,
   "id": "31a74600-65c5-4837-ab97-caf0b3bd7054",
   "metadata": {},
   "outputs": [
    {
     "data": {
      "text/plain": [
       "True"
      ]
     },
     "execution_count": 201,
     "metadata": {},
     "output_type": "execute_result"
    }
   ],
   "source": []
  },
  {
   "cell_type": "code",
   "execution_count": 169,
   "id": "a319669f-00ec-4bea-b6e8-626d09a1a3b6",
   "metadata": {},
   "outputs": [
    {
     "data": {
      "text/plain": [
       "(20, 1, 2, 2, 272)"
      ]
     },
     "execution_count": 169,
     "metadata": {},
     "output_type": "execute_result"
    }
   ],
   "source": [
    "#Complex, shape (N_freqs, N_lsts, N_ants, N_ants, N_alms)\n",
    "vis_alm.shape"
   ]
  },
  {
   "cell_type": "markdown",
   "id": "9f35bf33-b69b-4d9a-a7e4-df6d49631dd4",
   "metadata": {},
   "source": [
    "### Collapsing antenna dimensions into one baseline dimension and removing time dim from vis reponse"
   ]
  },
  {
   "cell_type": "code",
   "execution_count": 170,
   "id": "845733f6-0a7b-4449-84dd-1425947cedb0",
   "metadata": {},
   "outputs": [
    {
     "name": "stdout",
     "output_type": "stream",
     "text": [
      "[(0, 0), (0, 1), (1, 1)]\n"
     ]
    }
   ],
   "source": [
    "ants = list(ant_pos.keys())\n",
    "antpairs = []\n",
    "for i in ants:\n",
    "    for j in ants:\n",
    "        if j >= i:\n",
    "            antpairs.append((ants[i],ants[j]))\n",
    "\n",
    "print(antpairs)\n",
    "\n",
    "Nants = len(ants)\n",
    "Nbl = len(antpairs)\n",
    "Nalms = 2*len(ell)   ## FIND WHERE YOU DID THIS PREVIOUSLY \n",
    "Nfreqs = len(freqs)"
   ]
  },
  {
   "cell_type": "code",
   "execution_count": 181,
   "id": "7277d96d-ef5d-4dca-9ae0-27f224e0e63d",
   "metadata": {},
   "outputs": [],
   "source": [
    "\"\"\"\n",
    "    ant_pos (dict):\n",
    "    Dictionary of antenna positions, [x, y, z], in m. The keys should\n",
    "    be the numerical antenna IDs.\n",
    "    antpairs (list of tuple):\n",
    "    List of tuples containing pairs of antenna IDs, one for each\n",
    "    baseline.\n",
    "\"\"\"\n",
    "vis_response = np.zeros((Nbl, Nfreqs, Nalms), dtype=np.complex128)\n",
    "\n",
    "\n",
    "ants = list(ant_pos.keys())\n",
    "for i, bl in enumerate(antpairs):\n",
    "    idx1 = ants.index(bl[0])\n",
    "    idx2 = ants.index(bl[1])\n",
    "    vis_response[i, :, :] = vis_alm[:, 0, idx1, idx2, :]"
   ]
  },
  {
   "cell_type": "code",
   "execution_count": null,
   "id": "d5332acb-0a47-42f4-ab82-bc33e44df681",
   "metadata": {},
   "outputs": [],
   "source": []
  },
  {
   "cell_type": "markdown",
   "id": "4ba3015f-2a94-4471-81f4-90f76fe41b5f",
   "metadata": {},
   "source": [
    "### Looping over hour_angles to calculate the total visibilites"
   ]
  },
  {
   "cell_type": "markdown",
   "id": "f77b92e4-c8a6-4acb-9c4a-2336825c2011",
   "metadata": {},
   "source": [
    "First creating some mock alms to check shapes work. Note that these are 0 everywhere and 1 at the given mode, so not really representative of anything but the size"
   ]
  },
  {
   "cell_type": "code",
   "execution_count": 113,
   "id": "78969713-af03-433e-8b70-51d09fc2e7ac",
   "metadata": {},
   "outputs": [],
   "source": [
    "mock_alms = create_alms(mode=42,lmax=lmax)\n",
    "\n",
    "modes = alms2modes(mock_alms,lmax)"
   ]
  },
  {
   "cell_type": "code",
   "execution_count": 137,
   "id": "6ffc8a9a-fbaa-426a-a637-28b09b98b254",
   "metadata": {},
   "outputs": [
    {
     "name": "stdout",
     "output_type": "stream",
     "text": [
      "Run took 0.611 sec\n"
     ]
    }
   ],
   "source": [
    "t0 = time.time()\n",
    "visibility = np.zeros((Nbl, hour_angles.size, Nfreqs),dtype=np.complex128)\n",
    "\n",
    "for i in range(hour_angles.size):\n",
    "    D_matrix = combined_D_matrix(D_matrix_1D(lmax, hour_angles[i]), lmax)\n",
    "    rotated_modes = apply_D_matrix(D_matrix, modes, lmax)\n",
    "    \n",
    "    visibility[:,i,:] = vis_response[:,:,:] @ modes2alms(rotated_modes,lmax)\n",
    "    \n",
    "time_operator = time.time() - t0\n",
    "print(\"Run took %5.3f sec\" % (time_operator))"
   ]
  },
  {
   "cell_type": "code",
   "execution_count": 134,
   "id": "0c8dc1f5-761d-4d3d-a9c2-fba07923a419",
   "metadata": {},
   "outputs": [
    {
     "name": "stdout",
     "output_type": "stream",
     "text": [
      "(3, 24, 1)\n"
     ]
    }
   ],
   "source": [
    "print(visibility.shape)"
   ]
  },
  {
   "cell_type": "code",
   "execution_count": 140,
   "id": "e74ae065-7cc6-41d0-a87d-39bd5a674eab",
   "metadata": {},
   "outputs": [
    {
     "data": {
      "text/plain": [
       "272"
      ]
     },
     "execution_count": 140,
     "metadata": {},
     "output_type": "execute_result"
    }
   ],
   "source": [
    "vis_response.shape[2]"
   ]
  },
  {
   "cell_type": "code",
   "execution_count": 184,
   "id": "6b15d015-828c-4b4c-911d-1ce00065caba",
   "metadata": {},
   "outputs": [],
   "source": []
  },
  {
   "cell_type": "code",
   "execution_count": 155,
   "id": "2973659c-4c1e-44c4-a784-855cda620f52",
   "metadata": {},
   "outputs": [],
   "source": []
  },
  {
   "cell_type": "code",
   "execution_count": 189,
   "id": "f974798e-61a9-4373-aa6d-2e148e467e6b",
   "metadata": {},
   "outputs": [
    {
     "name": "stdout",
     "output_type": "stream",
     "text": [
      "Run took 8.179 sec\n"
     ]
    }
   ],
   "source": [
    "t0 = time.time()\n",
    "vis_response = precompute_op(freqs, lst_ref, beams, ant_pos, lmax, nside)\n",
    "visibility = apply_operator(mock_alms, vis_response, hour_angles, lmax)\n",
    "print(\"Run took %5.3f sec\" % (time.time() - t0))"
   ]
  },
  {
   "cell_type": "code",
   "execution_count": 186,
   "id": "cfbd0396-98d1-4c0c-89a4-475c78acefe0",
   "metadata": {},
   "outputs": [
    {
     "data": {
      "text/plain": [
       "453"
      ]
     },
     "execution_count": 186,
     "metadata": {},
     "output_type": "execute_result"
    }
   ],
   "source": []
  },
  {
   "cell_type": "code",
   "execution_count": null,
   "id": "e686d9f7-3226-4045-a652-944260081b36",
   "metadata": {},
   "outputs": [],
   "source": []
  },
  {
   "cell_type": "markdown",
   "id": "339f1b34-dba0-469c-a85f-e486f319614d",
   "metadata": {
    "jp-MarkdownHeadingCollapsed": true,
    "tags": []
   },
   "source": [
    "## [Not correct] First try at combining the precomputed D-matrix/alms and the visibility"
   ]
  },
  {
   "cell_type": "markdown",
   "id": "a3213ce3-76e9-44b6-ada6-cd780fddb53a",
   "metadata": {},
   "source": [
    "First there should be a correction for shape and then .. multiplying them?"
   ]
  },
  {
   "cell_type": "code",
   "execution_count": 42,
   "id": "d068515e-7b08-4a7c-bb9c-a348b5102e99",
   "metadata": {},
   "outputs": [
    {
     "data": {
      "text/plain": [
       "(1, 1, 2, 2, 272)"
      ]
     },
     "execution_count": 42,
     "metadata": {},
     "output_type": "execute_result"
    }
   ],
   "source": [
    "#Complex, shape (N_freqs, N_lsts, N_ants, N_ants, N_alms)\n",
    "vis_alm.shape"
   ]
  },
  {
   "cell_type": "code",
   "execution_count": 43,
   "id": "8addbcfd-0cc7-48c8-b14d-22c993d591d7",
   "metadata": {},
   "outputs": [
    {
     "data": {
      "text/plain": [
       "(24, 272)"
      ]
     },
     "execution_count": 43,
     "metadata": {},
     "output_type": "execute_result"
    }
   ],
   "source": [
    "rotated_alms.shape"
   ]
  },
  {
   "cell_type": "code",
   "execution_count": 44,
   "id": "d0d5b6fc-0b9f-4df2-a8a8-0392a326bc19",
   "metadata": {},
   "outputs": [
    {
     "data": {
      "text/plain": [
       "(24, 1, 1, 1, 1, 272)"
      ]
     },
     "execution_count": 44,
     "metadata": {},
     "output_type": "execute_result"
    }
   ],
   "source": [
    "rotated_alms_modified = rotated_alms[:, np.newaxis, np.newaxis, np.newaxis, np.newaxis, :]\n",
    "rotated_alms_modified.shape"
   ]
  },
  {
   "cell_type": "code",
   "execution_count": 45,
   "id": "875713ff-f74d-44df-9f22-5ac50ce594f1",
   "metadata": {},
   "outputs": [
    {
     "data": {
      "text/plain": [
       "(1, 1, 1, 2, 2, 272)"
      ]
     },
     "execution_count": 45,
     "metadata": {},
     "output_type": "execute_result"
    }
   ],
   "source": [
    "vis_alms_modified = vis_alm[np.newaxis, :, :, :, :, :]\n",
    "vis_alms_modified.shape"
   ]
  },
  {
   "cell_type": "code",
   "execution_count": 46,
   "id": "716d2653-9361-4f70-8831-42b554379cfd",
   "metadata": {},
   "outputs": [
    {
     "data": {
      "text/plain": [
       "(24, 1, 1, 2, 2, 272)"
      ]
     },
     "execution_count": 46,
     "metadata": {},
     "output_type": "execute_result"
    }
   ],
   "source": [
    "visibilities = vis_alms_modified*rotated_alms_modified\n",
    "visibilities.shape"
   ]
  },
  {
   "cell_type": "markdown",
   "id": "dfcf040f-4951-471b-af3c-012fae0526cb",
   "metadata": {},
   "source": [
    "NOTE! I need to sum over (l,m), so it should collapse the last dimension and leave the rest. Right?"
   ]
  },
  {
   "cell_type": "code",
   "execution_count": 47,
   "id": "fb7adc60-a9e5-47d3-9ee3-d0fcd780011c",
   "metadata": {},
   "outputs": [
    {
     "data": {
      "text/plain": [
       "(24, 1, 1, 2, 2)"
      ]
     },
     "execution_count": 47,
     "metadata": {},
     "output_type": "execute_result"
    }
   ],
   "source": [
    "# Now it has shape (N_rotatations, N_freqs, N_lsts, N_ants, N_ants)\n",
    "summed_vis = np.sum(visibilities, axis=5)\n",
    "summed_vis.shape"
   ]
  },
  {
   "cell_type": "code",
   "execution_count": 48,
   "id": "1daea913-ac59-4e55-88bb-258511d7f10d",
   "metadata": {},
   "outputs": [
    {
     "data": {
      "text/plain": [
       "array([[[[[ 0.00000000e+00+0.00000000e+00j,\n",
       "           -1.69406589e-21+0.00000000e+00j],\n",
       "          [ 0.00000000e+00+0.00000000e+00j,\n",
       "            0.00000000e+00+0.00000000e+00j]]]],\n",
       "\n",
       "\n",
       "\n",
       "       [[[[ 0.00000000e+00+0.00000000e+00j,\n",
       "            7.53080850e-22+8.80209449e-22j],\n",
       "          [ 0.00000000e+00+0.00000000e+00j,\n",
       "           -1.40833512e-20+0.00000000e+00j]]]],\n",
       "\n",
       "\n",
       "\n",
       "       [[[[ 0.00000000e+00+0.00000000e+00j,\n",
       "            2.98095968e-21+1.50413607e-21j],\n",
       "          [ 0.00000000e+00+0.00000000e+00j,\n",
       "           -2.40661771e-20+0.00000000e+00j]]]],\n",
       "\n",
       "\n",
       "\n",
       "       [[[[ 0.00000000e+00+0.00000000e+00j,\n",
       "            4.34089873e-21+1.69011664e-21j],\n",
       "          [ 0.00000000e+00+0.00000000e+00j,\n",
       "           -2.70418662e-20+0.00000000e+00j]]]],\n",
       "\n",
       "\n",
       "\n",
       "       [[[[ 0.00000000e+00+0.00000000e+00j,\n",
       "            4.43693655e-21+1.38400083e-21j],\n",
       "          [ 0.00000000e+00+0.00000000e+00j,\n",
       "           -2.21440133e-20+0.00000000e+00j]]]],\n",
       "\n",
       "\n",
       "\n",
       "       [[[[ 0.00000000e+00+0.00000000e+00j,\n",
       "            3.24111063e-21+6.74917699e-22j],\n",
       "          [ 0.00000000e+00+0.00000000e+00j,\n",
       "           -1.07986832e-20+0.00000000e+00j]]]],\n",
       "\n",
       "\n",
       "\n",
       "       [[[[ 0.00000000e+00+0.00000000e+00j,\n",
       "            1.10159908e-21-2.30675276e-22j],\n",
       "          [ 0.00000000e+00+0.00000000e+00j,\n",
       "            3.69080442e-21+0.00000000e+00j]]]],\n",
       "\n",
       "\n",
       "\n",
       "       [[[[ 0.00000000e+00+0.00000000e+00j,\n",
       "           -1.35865537e-21-1.06910456e-21j],\n",
       "          [ 0.00000000e+00+0.00000000e+00j,\n",
       "            1.71056730e-20+0.00000000e+00j]]]],\n",
       "\n",
       "\n",
       "\n",
       "       [[[[ 0.00000000e+00+0.00000000e+00j,\n",
       "           -3.42332210e-21-1.59625209e-21j],\n",
       "          [ 0.00000000e+00+0.00000000e+00j,\n",
       "            2.55400335e-20+0.00000000e+00j]]]],\n",
       "\n",
       "\n",
       "\n",
       "       [[[[ 0.00000000e+00+0.00000000e+00j,\n",
       "           -4.49125029e-21-1.65863296e-21j],\n",
       "          [ 0.00000000e+00+0.00000000e+00j,\n",
       "            2.65381274e-20+0.00000000e+00j]]]],\n",
       "\n",
       "\n",
       "\n",
       "       [[[[ 0.00000000e+00+0.00000000e+00j,\n",
       "           -4.25150071e-21-1.23808428e-21j],\n",
       "          [ 0.00000000e+00+0.00000000e+00j,\n",
       "            1.98093485e-20+0.00000000e+00j]]]],\n",
       "\n",
       "\n",
       "\n",
       "       [[[[ 0.00000000e+00+0.00000000e+00j,\n",
       "           -2.77387911e-21-4.57053508e-22j],\n",
       "          [ 0.00000000e+00+0.00000000e+00j,\n",
       "            7.31285614e-21+0.00000000e+00j]]]],\n",
       "\n",
       "\n",
       "\n",
       "       [[[[ 0.00000000e+00+0.00000000e+00j,\n",
       "           -4.88611565e-22+4.57053508e-22j],\n",
       "          [ 0.00000000e+00+0.00000000e+00j,\n",
       "           -7.31285614e-21+0.00000000e+00j]]]],\n",
       "\n",
       "\n",
       "\n",
       "       [[[[ 0.00000000e+00+0.00000000e+00j,\n",
       "            1.93892070e-21+1.23808428e-21j],\n",
       "          [ 0.00000000e+00+0.00000000e+00j,\n",
       "           -1.98093485e-20+0.00000000e+00j]]]],\n",
       "\n",
       "\n",
       "\n",
       "       [[[[ 0.00000000e+00+0.00000000e+00j,\n",
       "            3.80191451e-21+1.65863296e-21j],\n",
       "          [ 0.00000000e+00+0.00000000e+00j,\n",
       "           -2.65381274e-20+0.00000000e+00j]]]],\n",
       "\n",
       "\n",
       "\n",
       "       [[[[ 0.00000000e+00+0.00000000e+00j,\n",
       "            4.55793836e-21+1.59625209e-21j],\n",
       "          [ 0.00000000e+00+0.00000000e+00j,\n",
       "           -2.55400335e-20+0.00000000e+00j]]]],\n",
       "\n",
       "\n",
       "\n",
       "       [[[[ 0.00000000e+00+0.00000000e+00j,\n",
       "            3.98686745e-21+1.06910456e-21j],\n",
       "          [ 0.00000000e+00+0.00000000e+00j,\n",
       "           -1.71056730e-20+0.00000000e+00j]]]],\n",
       "\n",
       "\n",
       "\n",
       "       [[[[ 0.00000000e+00+0.00000000e+00j,\n",
       "            2.25497546e-21+2.30675276e-22j],\n",
       "          [ 0.00000000e+00+0.00000000e+00j,\n",
       "           -3.69080442e-21+0.00000000e+00j]]]],\n",
       "\n",
       "\n",
       "\n",
       "       [[[[ 0.00000000e+00+0.00000000e+00j,\n",
       "           -1.33477863e-22-6.74917699e-22j],\n",
       "          [ 0.00000000e+00+0.00000000e+00j,\n",
       "            1.07986832e-20+0.00000000e+00j]]]],\n",
       "\n",
       "\n",
       "\n",
       "       [[[[ 0.00000000e+00+0.00000000e+00j,\n",
       "           -2.48306762e-21-1.38400083e-21j],\n",
       "          [ 0.00000000e+00+0.00000000e+00j,\n",
       "            2.21440133e-20+0.00000000e+00j]]]],\n",
       "\n",
       "\n",
       "\n",
       "       [[[[ 0.00000000e+00+0.00000000e+00j,\n",
       "           -4.10968444e-21-1.69011664e-21j],\n",
       "          [ 0.00000000e+00+0.00000000e+00j,\n",
       "            2.70418662e-20+0.00000000e+00j]]]],\n",
       "\n",
       "\n",
       "\n",
       "       [[[[ 0.00000000e+00+0.00000000e+00j,\n",
       "           -4.53972066e-21-1.50413607e-21j],\n",
       "          [ 0.00000000e+00+0.00000000e+00j,\n",
       "            2.40661771e-20+0.00000000e+00j]]]],\n",
       "\n",
       "\n",
       "\n",
       "       [[[[ 0.00000000e+00+0.00000000e+00j,\n",
       "           -3.64796640e-21-8.80209449e-22j],\n",
       "          [ 0.00000000e+00+0.00000000e+00j,\n",
       "            1.40833512e-20+0.00000000e+00j]]]],\n",
       "\n",
       "\n",
       "\n",
       "       [[[[ 0.00000000e+00+0.00000000e+00j,\n",
       "           -1.69406589e-21-8.29852950e-37j],\n",
       "          [ 0.00000000e+00+0.00000000e+00j,\n",
       "            1.32776472e-35+0.00000000e+00j]]]]])"
      ]
     },
     "execution_count": 48,
     "metadata": {},
     "output_type": "execute_result"
    }
   ],
   "source": [
    "np.dot(vis_alms_modified,)"
   ]
  },
  {
   "cell_type": "code",
   "execution_count": null,
   "id": "f5a4cefb-092c-4b41-844f-8235acc4e61f",
   "metadata": {},
   "outputs": [],
   "source": []
  },
  {
   "cell_type": "markdown",
   "id": "e307ca36",
   "metadata": {
    "tags": []
   },
   "source": [
    "## [Not correct] Creating the \"opposite\" function -- retrieving the alms"
   ]
  },
  {
   "cell_type": "markdown",
   "id": "1cabd8a0",
   "metadata": {
    "jp-MarkdownHeadingCollapsed": true,
    "tags": []
   },
   "source": [
    "## Option 1, creating one long array of alms"
   ]
  },
  {
   "cell_type": "code",
   "execution_count": 44,
   "id": "f7162d29",
   "metadata": {},
   "outputs": [
    {
     "name": "stdout",
     "output_type": "stream",
     "text": [
      "(73984,)\n",
      "73984\n"
     ]
    }
   ],
   "source": [
    "nalms = vis[0,:,0].size\n",
    "alms = []\n",
    "\n",
    "for j in range(nalms):\n",
    "    alm = retrieve_alms(mode=j, nalms=nalms)\n",
    "    alms = np.append(alms, alm)\n",
    "    \n",
    "print(alms.shape)\n",
    "print(nalms*nalms)"
   ]
  },
  {
   "cell_type": "markdown",
   "id": "8def2ed0",
   "metadata": {
    "jp-MarkdownHeadingCollapsed": true,
    "tags": []
   },
   "source": [
    "## Option 2, creating a 2D alms array"
   ]
  },
  {
   "cell_type": "code",
   "execution_count": 66,
   "id": "5a926648",
   "metadata": {},
   "outputs": [
    {
     "name": "stdout",
     "output_type": "stream",
     "text": [
      "(272, 272)\n",
      "[[1. 0. 0. 0. 0. 0. 0. 0. 0. 0.]\n",
      " [0. 1. 0. 0. 0. 0. 0. 0. 0. 0.]\n",
      " [0. 0. 1. 0. 0. 0. 0. 0. 0. 0.]\n",
      " [0. 0. 0. 1. 0. 0. 0. 0. 0. 0.]\n",
      " [0. 0. 0. 0. 1. 0. 0. 0. 0. 0.]\n",
      " [0. 0. 0. 0. 0. 1. 0. 0. 0. 0.]\n",
      " [0. 0. 0. 0. 0. 0. 1. 0. 0. 0.]\n",
      " [0. 0. 0. 0. 0. 0. 0. 1. 0. 0.]\n",
      " [0. 0. 0. 0. 0. 0. 0. 0. 1. 0.]\n",
      " [0. 0. 0. 0. 0. 0. 0. 0. 0. 1.]]\n"
     ]
    }
   ],
   "source": [
    "nalms = vis[0,:,0].size\n",
    "alms = np.zeros((nalms,nalms), dtype=np.float64)\n",
    "\n",
    "for j in range(nalms):\n",
    "    alms[j,:] = retrieve_alms(mode=j, nalms=nalms)\n",
    "    \n",
    "print(alms.shape)\n",
    "print(alms[:10,:10])"
   ]
  },
  {
   "cell_type": "code",
   "execution_count": 53,
   "id": "3cfe92a2",
   "metadata": {},
   "outputs": [
    {
     "data": {
      "text/plain": [
       "dtype('float64')"
      ]
     },
     "execution_count": 53,
     "metadata": {},
     "output_type": "execute_result"
    }
   ],
   "source": []
  },
  {
   "cell_type": "raw",
   "id": "ae0f6cf4",
   "metadata": {},
   "source": []
  },
  {
   "cell_type": "markdown",
   "id": "4b6e8bad",
   "metadata": {},
   "source": [
    "This doesn't really make much sense does it? I feel like there's still a problem in not having a proper reference time. "
   ]
  },
  {
   "cell_type": "markdown",
   "id": "c4385622",
   "metadata": {
    "jp-MarkdownHeadingCollapsed": true,
    "tags": []
   },
   "source": [
    "# Tests that functions work"
   ]
  },
  {
   "cell_type": "markdown",
   "id": "7324101d",
   "metadata": {
    "tags": []
   },
   "source": [
    "### Test of basic response function"
   ]
  },
  {
   "cell_type": "code",
   "execution_count": 26,
   "id": "924e8197",
   "metadata": {},
   "outputs": [],
   "source": [
    "# Reference observation time\n",
    "obstime0 = Time('2022-06-27T01:02:30.11', format='isot', scale='utc') \n",
    "\n",
    "# Second observation time \n",
    "obstime1 = Time('2022-06-27T03:02:30.11', format='isot', scale='utc') \n",
    "\n",
    "# Time of rotation given as fraction of a sidereal day\n",
    "hour_angle = np.array([(obstime1-obstime0).value])\n",
    "\n",
    "# Test of array of times\n",
    "hour_angles = np.linspace(0.2, 0.5, 2)# * units.hour\n"
   ]
  },
  {
   "cell_type": "code",
   "execution_count": 27,
   "id": "0af38c6f",
   "metadata": {},
   "outputs": [
    {
     "data": {
      "text/plain": [
       "0.08333333333333337"
      ]
     },
     "execution_count": 27,
     "metadata": {},
     "output_type": "execute_result"
    }
   ],
   "source": [
    "hour_angle[0]"
   ]
  },
  {
   "cell_type": "code",
   "execution_count": 28,
   "id": "080529ca",
   "metadata": {},
   "outputs": [],
   "source": [
    "lmax = 15\n",
    "nside = 64\n",
    "\n",
    "bl = [14.,0.,0.]\n",
    "freqs=np.linspace(100., 200., 20)"
   ]
  },
  {
   "cell_type": "code",
   "execution_count": 29,
   "id": "e59e68f8",
   "metadata": {},
   "outputs": [
    {
     "name": "stdout",
     "output_type": "stream",
     "text": [
      "Run took 78.558 sec\n"
     ]
    }
   ],
   "source": [
    "t0 = time.time()\n",
    "v = vis_sh_response_multi_rotations(bl, freqs, lmax, hour_angles, nside)\n",
    "print(\"Run took %5.3f sec\" % (time.time() - t0))"
   ]
  },
  {
   "cell_type": "markdown",
   "id": "6bf8e726",
   "metadata": {},
   "source": [
    "Doing:\n",
    "```\n",
    "test_array = np.zeros((4,3,2))\n",
    "print(test_array)\n",
    "```\n",
    "\n",
    "will print:\n",
    "\n",
    "```\n",
    "[[[0. 0.]\n",
    "  [0. 0.]\n",
    "  [0. 0.]]\n",
    "\n",
    " [[0. 0.]\n",
    "  [0. 0.]\n",
    "  [0. 0.]]\n",
    "\n",
    " [[0. 0.]\n",
    "  [0. 0.]\n",
    "  [0. 0.]]\n",
    "\n",
    " [[0. 0.]\n",
    "  [0. 0.]\n",
    "  [0. 0.]]]\n",
    "```\n",
    "\n",
    "So to have dimensions of D_matrices x nmodes x freqs we need\n",
    "\n",
    "`np.zeros((d_matrices.size, nmodes.size, freqs.size))`"
   ]
  },
  {
   "cell_type": "code",
   "execution_count": 30,
   "id": "068895ce",
   "metadata": {},
   "outputs": [
    {
     "name": "stdout",
     "output_type": "stream",
     "text": [
      "(4, 272, 20)\n"
     ]
    }
   ],
   "source": [
    "real_v = split_complex_array(v)\n",
    "print(real_v.shape)"
   ]
  },
  {
   "cell_type": "markdown",
   "id": "9ae3a501",
   "metadata": {
    "jp-MarkdownHeadingCollapsed": true,
    "tags": []
   },
   "source": [
    "### Speed up by parallelising?"
   ]
  },
  {
   "cell_type": "markdown",
   "id": "9ba821c1",
   "metadata": {},
   "source": [
    "Package, \"parallel\" to parallelise for loops\n",
    "\n",
    "```\n",
    "from joblib import Parallel, delayed\n",
    "def process(i):\n",
    "    return i * i\n",
    "    \n",
    "results = Parallel(n_jobs=2)(delayed(process)(i) for i in range(10))\n",
    "print(results)  # prints [0, 1, 4, 9, 16, 25, 36, 49, 64, 81]\n",
    "```"
   ]
  },
  {
   "cell_type": "code",
   "execution_count": null,
   "id": "aeb72169",
   "metadata": {},
   "outputs": [],
   "source": []
  },
  {
   "cell_type": "code",
   "execution_count": 31,
   "id": "c95545c9",
   "metadata": {},
   "outputs": [],
   "source": [
    "hour_angles = np.linspace(0, 0.5, 10)# fraction of a day"
   ]
  },
  {
   "cell_type": "code",
   "execution_count": 32,
   "id": "ad684d21",
   "metadata": {
    "scrolled": true
   },
   "outputs": [
    {
     "ename": "KeyboardInterrupt",
     "evalue": "",
     "output_type": "error",
     "traceback": [
      "\u001b[0;31m---------------------------------------------------------------------------\u001b[0m",
      "\u001b[0;31mKeyboardInterrupt\u001b[0m                         Traceback (most recent call last)",
      "\u001b[0;32m/tmp/ipykernel_10093/535056584.py\u001b[0m in \u001b[0;36m<module>\u001b[0;34m\u001b[0m\n\u001b[1;32m      1\u001b[0m \u001b[0mt0\u001b[0m \u001b[0;34m=\u001b[0m \u001b[0mtime\u001b[0m\u001b[0;34m.\u001b[0m\u001b[0mtime\u001b[0m\u001b[0;34m(\u001b[0m\u001b[0;34m)\u001b[0m\u001b[0;34m\u001b[0m\u001b[0;34m\u001b[0m\u001b[0m\n\u001b[0;32m----> 2\u001b[0;31m \u001b[0mv\u001b[0m \u001b[0;34m=\u001b[0m \u001b[0mvis_sh_response_multi_rotations\u001b[0m\u001b[0;34m(\u001b[0m\u001b[0mbl\u001b[0m\u001b[0;34m,\u001b[0m \u001b[0mfreqs\u001b[0m\u001b[0;34m,\u001b[0m \u001b[0mlmax\u001b[0m\u001b[0;34m,\u001b[0m \u001b[0mhour_angles\u001b[0m\u001b[0;34m,\u001b[0m \u001b[0mnside\u001b[0m\u001b[0;34m)\u001b[0m\u001b[0;34m\u001b[0m\u001b[0;34m\u001b[0m\u001b[0m\n\u001b[0m\u001b[1;32m      3\u001b[0m \u001b[0mfor_loop_time\u001b[0m \u001b[0;34m=\u001b[0m \u001b[0mtime\u001b[0m\u001b[0;34m.\u001b[0m\u001b[0mtime\u001b[0m\u001b[0;34m(\u001b[0m\u001b[0;34m)\u001b[0m \u001b[0;34m-\u001b[0m \u001b[0mt0\u001b[0m\u001b[0;34m\u001b[0m\u001b[0;34m\u001b[0m\u001b[0m\n\u001b[1;32m      4\u001b[0m \u001b[0mprint\u001b[0m\u001b[0;34m(\u001b[0m\u001b[0;34m\"Run took %5.3f sec\"\u001b[0m \u001b[0;34m%\u001b[0m \u001b[0;34m(\u001b[0m\u001b[0mfor_loop_time\u001b[0m\u001b[0;34m)\u001b[0m\u001b[0;34m)\u001b[0m\u001b[0;34m\u001b[0m\u001b[0;34m\u001b[0m\u001b[0m\n\u001b[1;32m      5\u001b[0m \u001b[0mprint\u001b[0m\u001b[0;34m(\u001b[0m\u001b[0mv\u001b[0m\u001b[0;34m.\u001b[0m\u001b[0mshape\u001b[0m\u001b[0;34m)\u001b[0m\u001b[0;34m\u001b[0m\u001b[0;34m\u001b[0m\u001b[0m\n",
      "\u001b[0;32m/tmp/ipykernel_10093/3459802464.py\u001b[0m in \u001b[0;36mvis_sh_response_multi_rotations\u001b[0;34m(bl, freqs, lmax, hour_angles, nside)\u001b[0m\n\u001b[1;32m     65\u001b[0m                 \u001b[0malms\u001b[0m \u001b[0;34m=\u001b[0m \u001b[0mcreate_alms\u001b[0m\u001b[0;34m(\u001b[0m\u001b[0mmode\u001b[0m\u001b[0;34m=\u001b[0m\u001b[0mj\u001b[0m\u001b[0;34m,\u001b[0m\u001b[0mlmax\u001b[0m\u001b[0;34m=\u001b[0m\u001b[0mlmax\u001b[0m\u001b[0;34m)\u001b[0m\u001b[0;34m\u001b[0m\u001b[0;34m\u001b[0m\u001b[0m\n\u001b[1;32m     66\u001b[0m                 \u001b[0mmodes\u001b[0m \u001b[0;34m=\u001b[0m \u001b[0malms2modes\u001b[0m\u001b[0;34m(\u001b[0m\u001b[0malms\u001b[0m\u001b[0;34m,\u001b[0m\u001b[0mlmax\u001b[0m\u001b[0;34m)\u001b[0m\u001b[0;34m\u001b[0m\u001b[0;34m\u001b[0m\u001b[0m\n\u001b[0;32m---> 67\u001b[0;31m                 \u001b[0mrotated_modes\u001b[0m \u001b[0;34m=\u001b[0m \u001b[0mrotate_D_matrix\u001b[0m\u001b[0;34m(\u001b[0m\u001b[0mD_matrix\u001b[0m\u001b[0;34m,\u001b[0m \u001b[0mmodes\u001b[0m\u001b[0;34m,\u001b[0m \u001b[0mlmax\u001b[0m\u001b[0;34m)\u001b[0m\u001b[0;34m\u001b[0m\u001b[0;34m\u001b[0m\u001b[0m\n\u001b[0m\u001b[1;32m     68\u001b[0m                 \u001b[0mhealpy_modes\u001b[0m \u001b[0;34m=\u001b[0m \u001b[0mmodes2healpy\u001b[0m\u001b[0;34m(\u001b[0m\u001b[0mrotated_modes\u001b[0m\u001b[0;34m,\u001b[0m \u001b[0mlmax\u001b[0m\u001b[0;34m)\u001b[0m\u001b[0;34m\u001b[0m\u001b[0;34m\u001b[0m\u001b[0m\n\u001b[1;32m     69\u001b[0m \u001b[0;34m\u001b[0m\u001b[0m\n",
      "\u001b[0;32m/tmp/ipykernel_10093/82596645.py\u001b[0m in \u001b[0;36mrotate_D_matrix\u001b[0;34m(block_diag_D_matrix, modes, lmax)\u001b[0m\n\u001b[1;32m     25\u001b[0m     '''\n\u001b[1;32m     26\u001b[0m \u001b[0;34m\u001b[0m\u001b[0m\n\u001b[0;32m---> 27\u001b[0;31m     \u001b[0mapply_D_matrix\u001b[0m \u001b[0;34m=\u001b[0m \u001b[0mnp\u001b[0m\u001b[0;34m.\u001b[0m\u001b[0mdot\u001b[0m\u001b[0;34m(\u001b[0m\u001b[0mblock_diag_D_matrix\u001b[0m\u001b[0;34m,\u001b[0m \u001b[0mmodes\u001b[0m\u001b[0;34m)\u001b[0m\u001b[0;34m\u001b[0m\u001b[0;34m\u001b[0m\u001b[0m\n\u001b[0m\u001b[1;32m     28\u001b[0m     \u001b[0mrotated_modes\u001b[0m \u001b[0;34m=\u001b[0m \u001b[0mspherical\u001b[0m\u001b[0;34m.\u001b[0m\u001b[0mModes\u001b[0m\u001b[0;34m(\u001b[0m\u001b[0mapply_D_matrix\u001b[0m\u001b[0;34m,\u001b[0m \u001b[0mspin_weight\u001b[0m\u001b[0;34m=\u001b[0m\u001b[0;36m0\u001b[0m\u001b[0;34m)\u001b[0m\u001b[0;34m\u001b[0m\u001b[0;34m\u001b[0m\u001b[0m\n\u001b[1;32m     29\u001b[0m \u001b[0;34m\u001b[0m\u001b[0m\n",
      "\u001b[0;32m<__array_function__ internals>\u001b[0m in \u001b[0;36mdot\u001b[0;34m(*args, **kwargs)\u001b[0m\n",
      "\u001b[0;31mKeyboardInterrupt\u001b[0m: "
     ]
    }
   ],
   "source": [
    "t0 = time.time()\n",
    "v = vis_sh_response_multi_rotations(bl, freqs, lmax, hour_angles, nside)\n",
    "for_loop_time = time.time() - t0\n",
    "print(\"Run took %5.3f sec\" % (for_loop_time))\n",
    "print(v.shape)"
   ]
  },
  {
   "cell_type": "code",
   "execution_count": null,
   "id": "c56784ce",
   "metadata": {},
   "outputs": [],
   "source": [
    "t0 = time.time()\n",
    "test_results = Parallel(n_jobs=-1)(delayed(vis_sh_response)(bl, freqs, lmax, hour_angles[i]) for i in range(hour_angles.size))\n",
    "parallel_time = time.time() - t0\n",
    "print(\"Run took %5.3f sec\" % (parallel_time))\n",
    "print(np.array(test_results).shape)"
   ]
  },
  {
   "cell_type": "markdown",
   "id": "df481286",
   "metadata": {},
   "source": [
    "Parallelisation works well! But maybe I should stack it instead so it doesn't need to iterate? I'm not sure if that helps with the problem though.\n",
    "\n"
   ]
  },
  {
   "cell_type": "code",
   "execution_count": null,
   "id": "44beb8fc",
   "metadata": {},
   "outputs": [],
   "source": []
  },
  {
   "cell_type": "code",
   "execution_count": null,
   "id": "13f19869",
   "metadata": {},
   "outputs": [],
   "source": []
  },
  {
   "cell_type": "code",
   "execution_count": null,
   "id": "8e2be934",
   "metadata": {},
   "outputs": [],
   "source": [
    "hour_angles = np.linspace(0.1, 0.5, 2)# fraction of a day"
   ]
  },
  {
   "cell_type": "code",
   "execution_count": null,
   "id": "e6482241",
   "metadata": {},
   "outputs": [],
   "source": [
    "t0 = time.time()\n",
    "test_results = Parallel(n_jobs=-1)(delayed(vis_sh_response)(bl, freqs, lmax, hour_angles[i]) for i in range(hour_angles.size))\n",
    "parallel_time = time.time() - t0\n",
    "print(\"Run took %5.3f sec\" % (parallel_time))\n",
    "print(np.array(test_results).shape)"
   ]
  },
  {
   "cell_type": "markdown",
   "id": "03b4ea7d",
   "metadata": {},
   "source": [
    "```\n",
    "nalms = 272\n",
    "alm size is = 272\n",
    "mode size is = 256\n",
    "healpy_modes size is = 136\n",
    "```"
   ]
  },
  {
   "cell_type": "code",
   "execution_count": null,
   "id": "7089cbc0",
   "metadata": {},
   "outputs": [],
   "source": [
    "print(np.array(test_results).dtype)"
   ]
  },
  {
   "cell_type": "markdown",
   "id": "79047e4f",
   "metadata": {
    "jp-MarkdownHeadingCollapsed": true,
    "tags": []
   },
   "source": [
    "### Test of Rotations"
   ]
  },
  {
   "cell_type": "code",
   "execution_count": null,
   "id": "39702578",
   "metadata": {},
   "outputs": [],
   "source": [
    "# Reference observation time\n",
    "obstime0 = Time('2022-06-27T01:02:30.11', format='isot', scale='utc') \n",
    "\n",
    "# Second observation time \n",
    "obstime1 = Time('2022-06-27T03:02:30.11', format='isot', scale='utc') \n",
    "\n",
    "#obstimes = obstime0 + np.linspace(0., 24., 100) * units.hour\n",
    "\n",
    "\n",
    "# Time of rotation given as fraction of a sidereal day\n",
    "ha = (obstime1-obstime0).value\n"
   ]
  },
  {
   "cell_type": "code",
   "execution_count": null,
   "id": "ee4c3f6c",
   "metadata": {},
   "outputs": [],
   "source": [
    "t0 = time.time()\n",
    "# D_matrix = D_matrix_1D(modes=modes_init, lmax=lmax, ra=ra_zenith, dec=dec_zenith, ha=rotation_time)\n",
    "D_matrix = D_matrix_1D(lmax, ha)\n",
    "block_diag_D_matrix = combined_D_matrix(D_matrix, lmax)\n",
    "print(\"Run took %5.3f sec\" % (time.time() - t0))"
   ]
  },
  {
   "cell_type": "code",
   "execution_count": null,
   "id": "d4c133ae",
   "metadata": {},
   "outputs": [],
   "source": [
    "t0 = time.time()\n",
    "for j in range(10):\n",
    "    alms = create_alms(mode=j,lmax=lmax)\n",
    "    modes = alms2modes(alms,lmax)\n",
    "    rotated_modes = rotate_D_matrix(block_diag_D_matrix, modes, lmax)\n",
    "    healpy_modes = modes2healpy(rotated_modes, lmax)\n",
    "print(\"Run took %5.3f sec\" % (time.time() - t0))"
   ]
  },
  {
   "cell_type": "code",
   "execution_count": null,
   "id": "c8af2d80",
   "metadata": {},
   "outputs": [],
   "source": [
    "t0 = time.time()\n",
    "for j in range(10):\n",
    "    alms = create_alms(mode=j,lmax=lmax)\n",
    "    modes = alms2modes(alms,lmax)\n",
    "    apply_D_matrix = np.dot(combined_D_matrix(D_matrix, lmax), modes)\n",
    "    rotated_modes = spherical.Modes(apply_D_matrix, spin_weight=0)\n",
    "    healpy_modes = modes2healpy(rotated_modes, lmax)\n",
    "print(\"Run took %5.3f sec\" % (time.time() - t0))"
   ]
  },
  {
   "cell_type": "markdown",
   "id": "a4ab20be",
   "metadata": {
    "jp-MarkdownHeadingCollapsed": true,
    "tags": []
   },
   "source": [
    "### Test of mode manipulation/reordering"
   ]
  },
  {
   "cell_type": "code",
   "execution_count": 241,
   "id": "2f552e6d",
   "metadata": {},
   "outputs": [
    {
     "name": "stdout",
     "output_type": "stream",
     "text": [
      "[ True  True  True  True  True  True  True  True  True  True  True  True\n",
      "  True  True  True  True  True  True  True  True  True  True  True  True\n",
      "  True  True  True  True  True  True  True  True  True  True  True  True\n",
      "  True  True  True  True  True  True  True  True  True  True  True  True\n",
      "  True  True  True  True  True  True  True  True]\n"
     ]
    }
   ],
   "source": [
    "# test functions works:\n",
    "lmax, mode= (6, 15)\n",
    "\n",
    "alms = create_alms(mode,lmax)\n",
    "wigner_modes = alms2modes(alms, lmax)\n",
    "alms_back = modes2alms(wigner_modes,lmax)\n",
    "\n",
    "print(alms==alms_back)"
   ]
  },
  {
   "cell_type": "code",
   "execution_count": null,
   "id": "f3acea73",
   "metadata": {},
   "outputs": [],
   "source": [
    "healpy_modes = modes2healpy(wigner_modes,lmax)\n",
    "\n",
    "print(healpy_modes.real == alms[:int(np.size(alms)/2)])\n",
    "print(healpy_modes.imag == alms[int(np.size(alms)/2):])\n",
    "\n",
    "alms_back_again = healpy2alms(healpy_modes)\n",
    "\n",
    "print(alms==alms_back_again)"
   ]
  },
  {
   "cell_type": "code",
   "execution_count": null,
   "id": "7e45e449",
   "metadata": {},
   "outputs": [],
   "source": []
  },
  {
   "cell_type": "code",
   "execution_count": null,
   "id": "ffa5ad6c",
   "metadata": {},
   "outputs": [],
   "source": []
  }
 ],
 "metadata": {
  "kernelspec": {
   "display_name": "Python 3 (ipykernel)",
   "language": "python",
   "name": "python3"
  },
  "language_info": {
   "codemirror_mode": {
    "name": "ipython",
    "version": 3
   },
   "file_extension": ".py",
   "mimetype": "text/x-python",
   "name": "python",
   "nbconvert_exporter": "python",
   "pygments_lexer": "ipython3",
   "version": "3.9.7"
  }
 },
 "nbformat": 4,
 "nbformat_minor": 5
}
