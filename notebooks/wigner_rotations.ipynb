{
 "cells": [
  {
   "cell_type": "markdown",
   "id": "fcbbbe29",
   "metadata": {},
   "source": [
    "## List of inputs:\n",
    "\n",
    "\n",
    "\n",
    "* nside\n",
    "* lmax (controls the number of wigner modes, maybe set as default to 2)\n",
    "\n",
    "\n",
    "* location. HERA should be default, so maybe not?\n",
    "* obstime\n",
    "* ell_mode (for ordering, always dipole?)\n",
    "* m_mode (for ordering, always dipole?)\n",
    "* real\n",
    "* imag\n",
    "* real_0  (better naming?)\n",
    "* spin_weight? (it should always be zero though, so maybe not)"
   ]
  },
  {
   "cell_type": "code",
   "execution_count": 1,
   "id": "62980720",
   "metadata": {},
   "outputs": [],
   "source": [
    "import numpy as np\n",
    "import scipy as sp\n",
    "\n",
    "# Plotting\n",
    "#import matplotlib.pyplot as plt\n",
    "#import cmocean\n",
    "#import cmocean.cm as cmo\n",
    "import pylab as plt\n",
    "\n",
    "# Mapping\n",
    "import healpy as hp\n",
    "\n",
    "# Wigner D matrices\n",
    "import spherical, quaternionic\n",
    "\n",
    "# Pandas, dataframe\n",
    "import pandas as pd\n",
    "\n",
    "# All things astropy\n",
    "from astropy import units\n",
    "from astropy.coordinates import EarthLocation, SkyCoord\n",
    "from astropy.coordinates.builtin_frames import AltAz, ICRS\n",
    "from astropy.time import Time"
   ]
  },
  {
   "cell_type": "code",
   "execution_count": 2,
   "id": "93081252",
   "metadata": {},
   "outputs": [],
   "source": [
    "def get_zenith_coord(nside, location, obstime):\n",
    "    \"\"\"\n",
    "    Uses location and obstime to calculate the RA/Dec coordinates and pixel index of zenith above the given location.\n",
    "    \n",
    "    ** Inputs:\n",
    "    \n",
    "    location: given as an astropy `EarthLocation` object\n",
    "    obstime: given as an astropy `Time` object\n",
    "    nside: Resolution\n",
    "    \n",
    "    ** Outputs:\n",
    "    \n",
    "    ra_zenith: Right ascention of zenith at given location and obstime in radian\n",
    "    dec_zenith: Declination of zenith at given location and obstime in radian\n",
    "    lst: Local sidereal time corresponding to the given opstime and longitude in radian\n",
    "    pix_zenith: The index of the pixel at zenith given the resolution (nside)\n",
    "    \n",
    "    \"\"\"\n",
    "    \n",
    "    # Define AltAz frame at time 0\n",
    "    frame_altaz0 = AltAz(obstime=obstime, location=location)\n",
    "    \n",
    "    # # Define a coordinate that is at the zenith at time 0\n",
    "    zenith_at_loc_altaz = SkyCoord(alt=90.*units.degree, az=0.*units.degree, frame=frame_altaz0)\n",
    "    zenith_at_loc_radec = zenith_at_loc_altaz.copy().transform_to('icrs')\n",
    "\n",
    "    # Get zenith coordinates\n",
    "    ra_zenith = zenith_at_loc_radec.ra\n",
    "    dec_zenith = zenith_at_loc_radec.dec\n",
    "    \n",
    "    # get local sidereal time of obstime0 at this longitude, in radians\n",
    "    lst = obstime.sidereal_time(kind='mean', longitude=location.lon)\n",
    "    \n",
    "    # Get the zenith pixel number\n",
    "    pix_zenith = hp.ang2pix(nside, ra_zenith.deg, dec_zenith.deg, lonlat=True)\n",
    "    \n",
    "    return ra_zenith.rad, dec_zenith.rad, lst.rad, pix_zenith"
   ]
  },
  {
   "cell_type": "code",
   "execution_count": 3,
   "id": "b2f241f7",
   "metadata": {},
   "outputs": [],
   "source": [
    "def get_index_dataframe(lmax):#, ell=0, m=0):\n",
    "    '''\n",
    "    Function to get the list of indices (i, ell, m) for ALL the modes in the `spherical` code\n",
    "    \n",
    "    ** Returns\n",
    "    \n",
    "    mode_indices: pandas dataframe with indices ordered as (i, ell, m) where i is the 'global' index of the alm-modes.\n",
    "    \n",
    "    '''\n",
    "    # Number of modes \n",
    "    nmodes_wigner = lmax*(lmax+2)+1                                  # all modes\n",
    "    nmodes_healpy = lmax * (2 * lmax + 1 - lmax) // 2 + lmax + 1     # only m>=0 modes\n",
    "\n",
    "    # Create empty Modes object to get indices\n",
    "    modes = spherical.Modes(np.zeros(shape=nmodes_wigner, dtype=np.complex128), spin_weight=0)\n",
    "\n",
    "    #Get ell, m and global index i according to the `spherical` ordering\n",
    "    indices = np.empty(shape=(nmodes_wigner,2))\n",
    "    for ell_mode in range(0,lmax+1):\n",
    "        for m_mode in range(-ell_mode,ell_mode+1):\n",
    "            i = modes.index(ell=ell_mode,m=m_mode)\n",
    "            indices[i] = [ell_mode, m_mode]\n",
    "\n",
    "    indices_df =  pd.DataFrame(indices)\n",
    "    indices_df.columns = ['ell', 'm']\n",
    "    \n",
    "    # List of wigner indices\n",
    "    mode_indices = indices_df\n",
    "   \n",
    "    return mode_indices"
   ]
  },
  {
   "cell_type": "code",
   "execution_count": 4,
   "id": "46403235",
   "metadata": {},
   "outputs": [],
   "source": [
    "def ordering(lmax, ell=0, m=0):\n",
    "    '''\n",
    "    Function to ensure the correct ordering of alm-modes when switching between `HEALpy` and `spherical`.\n",
    "    Finds the indices to convert between the ordering of 'HEALpy' and 'spherical' using ALL modes\n",
    "    \n",
    "    ** Returns\n",
    "    \n",
    "    wigner2healpy: indices in a list to go from `spherical` ordering to `HEALpy`\n",
    "    healpy2wigner: indices in a list to go from `HEALpy` ordering to `spherical`\n",
    "    neg_modes_index: Index of where to cut off negative modes to get to `HEALpy`s alm-convention. Necessary for plotting.\n",
    "    index_ell_mode: Gets `spherical` indices of the modes matching the input `ell` value Default ell=0 mode.\n",
    "    index_m_mode: Gets `spherical` indices of the modes matching the input `m` value. Default m=0 mode.\n",
    "    \n",
    "    '''\n",
    "    # Number of modes \n",
    "    nmodes_wigner = lmax*(lmax+2)+1                                  # all modes\n",
    "    nmodes_healpy = lmax * (2 * lmax + 1 - lmax) // 2 + lmax + 1     # only m>=0 modes\n",
    "\n",
    "    \n",
    "    # List of wigner indices\n",
    "    mode_indices = get_index_dataframe(lmax)#, ell, m)\n",
    "\n",
    "    # Sort indices: spherical (wigner) -->  HEALpy\n",
    "    df1 = mode_indices.sort_values(['m', 'ell'])\n",
    "    wigner2healpy = df1.index.to_list()\n",
    "    \n",
    "    # Sort indices: HEALpy --> spherical (wigner)\n",
    "    reset = df1.reset_index()  # resets to HEALpy as standard\n",
    "    df2 = reset.sort_values(['ell', 'm'])\n",
    "    healpy2wigner = df2.index.to_list()\n",
    "\n",
    "    # Get ell, m indicies (ONLY FOR WIGNER)\n",
    "    index_ell_mode = df1.loc[df1.ell == ell].index.tolist()\n",
    "    index_m_mode = df1.loc[df1.m == m].index.tolist()\n",
    "    \n",
    "    # Get cutoff index for removing negative modes\n",
    "    neg_modes_index = nmodes_wigner-nmodes_healpy\n",
    "    \n",
    "    return wigner2healpy, healpy2wigner, neg_modes_index, index_ell_mode, index_m_mode"
   ]
  },
  {
   "cell_type": "code",
   "execution_count": 5,
   "id": "f62b63d4",
   "metadata": {},
   "outputs": [],
   "source": [
    "def create_modes(real, imag, real_0, lmax, ell_mode=1):\n",
    "    \"\"\"\n",
    "    Sets up both 'modes' and 'alms' following the conventions used by `spherical` and `HEALpy` respectively.\n",
    "\n",
    "    Creates alm-modes according to the rule needed to obtain a real field (for all ell):\n",
    "    (a_l,+m).real = -(a_l,-m).real\n",
    "    (a_l,+m).imag = +(a_l,-m).imag\n",
    "\n",
    "\n",
    "    ** Input:\n",
    "    \n",
    "    lmax: Max ell-value, determines number of modes via `lmax*(lmax+2)+1`\n",
    "    ell_mode: determines the order of the multipole. Default ell_mode=1 for the dipole\n",
    "    \n",
    "    real: value of the real part of the `ell != 0` modes. The sign follows the `ell > 0` modes.\n",
    "    imag: value of the imaginary part of the `ell != 0` modes. Positive values moves it to the left\n",
    "    real_0: numerical value of the `ell = 0` mode\n",
    "    \n",
    "     \n",
    "    ** Output:\n",
    "    \n",
    "    modes: wigner modes, use these for rotations\n",
    "    alms: healpy alms, use these for plotting via healpy\n",
    "    \n",
    "    \"\"\"\n",
    "    nmodes_wigner = lmax*(lmax+2)+1\n",
    "    set_modes = np.zeros(nmodes_wigner, dtype=complex)\n",
    "    \n",
    "    # Get ell indices\n",
    "    _, _, _, index_ells, _ = ordering(lmax, ell=ell_mode)\n",
    "    middle_index = int((len(index_ells) - 1)/2)\n",
    "\n",
    "    set_modes[index_ells[0:middle_index]]  = +real + imag\n",
    "    set_modes[index_ells[middle_index]]    = real_0 \n",
    "    set_modes[index_ells[middle_index+1:]] = -real + imag\n",
    "    \n",
    "    \n",
    "    #set_alm_values = create_modes(lmax, ell_mode, real, imag, real_0)\n",
    "    modes = spherical.Modes(set_modes, spin_weight=0)\n",
    "\n",
    "    wigner2healpy, _, neg_modes_index, _, _ = ordering(lmax, ell=ell_mode)\n",
    "    alms = modes.ndarray[wigner2healpy][neg_modes_index:]\n",
    "    \n",
    "    \n",
    "    return modes, alms"
   ]
  },
  {
   "cell_type": "code",
   "execution_count": 6,
   "id": "43b88274",
   "metadata": {},
   "outputs": [],
   "source": [
    "def modes2map(modes, nside, lmax, ell_mode=1):\n",
    "    \n",
    "    wigner2healpy, healpy2wigner, neg_modes_index, index_ells, _ = ordering(lmax, ell=ell_mode)\n",
    "    \n",
    "    # Order the modes to fit with HEALpy\n",
    "    wigner_ordered = modes[wigner2healpy][neg_modes_index:]\n",
    "    ordered_map = hp.alm2map(wigner_ordered, nside)    # for plotting purposes \n",
    "\n",
    "    return ordered_map"
   ]
  },
  {
   "cell_type": "code",
   "execution_count": 7,
   "id": "a73d5659",
   "metadata": {},
   "outputs": [],
   "source": [
    "def spherical_rotate_modes(modes, lmax, theta, phi, psi=0):\n",
    "    \"\"\" Performs the actual ROTATIONS of the modes directly using the `spherical` code without calculating the wigner 𝔇-matrix.\n",
    "    \n",
    "    Parameters\n",
    "    ----------\n",
    "\n",
    "    modes: `spherical` modes object\n",
    "        Wigner/`spherical` modes to rotate. Do not give it HEALpy alms\n",
    "    lmax: int \n",
    "        Sets the number of modes (used for creating the `Wigner` object)\n",
    "\n",
    "    phi: (radian) Corresponds to RA. Sign is automatically changed to fit with `spherical`\n",
    "    theta: (radian) Corresponds to declination.\n",
    "    psi: (radian) Is per default set to zero, but can be set if wanted.\n",
    "    \n",
    "    \n",
    "    Returns\n",
    "    -------\n",
    "    \n",
    "    modes_rot : `spherical` modes object\n",
    "        The new/rotated modes given the input angles\n",
    "    \n",
    "    Notes\n",
    "    -----\n",
    "    This assumes rotation Euler angles for `spherical` given by:\n",
    "    \n",
    "      * zyz-convention\n",
    "      * Order of rotations: phi --> theta --> psi\n",
    "      * phi and theta are swapped compared to astropy \n",
    "      * phi has the opposite sign compared to astropy\n",
    "\n",
    "      ==> phi is equivalent to negative longitude/ RA\n",
    "      ==> theta is latitude / dec>\n",
    "      ==> psi should be set to zero\n",
    "      \n",
    "    \"\"\"\n",
    "    # FixMe: Make an assertion that the angles are actaully given in radian\n",
    "\n",
    "    # Calculate rotation of a_lms\n",
    "    wigner = spherical.Wigner(ell_max=lmax)\n",
    "    rotate_to_coord = quaternionic.array.from_euler_angles(psi, theta, -phi)\n",
    "    rotated_modes = wigner.rotate(modes, rotate_to_coord)\n",
    "        \n",
    "    return rotated_modes"
   ]
  },
  {
   "cell_type": "code",
   "execution_count": 8,
   "id": "c3d179fe",
   "metadata": {},
   "outputs": [],
   "source": [
    "def spherical_set_coords(modes, lmax, dec, ra, lst):\n",
    "    \"\"\"\n",
    "    Rotation Euler angles for `spherical`:\n",
    "    \n",
    "      * zyz-convention\n",
    "      * Order of rotations: phi --> theta --> psi\n",
    "      * phi and theta are swapped compared to astropy \n",
    "      * phi has the opposite sign compared to astropy\n",
    "\n",
    "      ==> phi is equivalent to negative longitude/ hour angle: HA = LST - RA\n",
    "      ==> theta is latitude / dec\n",
    "      ==> psi should be set to zero\n",
    "      \n",
    "    phi: (radian) Corresponds to HA. Sign is automatically changed to fit with `spherical`\n",
    "    theta: (radian) Corresponds to declination.\n",
    "    psi: (radian) Is per default set to zero.\n",
    "\n",
    "    ** Input:\n",
    "\n",
    "    modes: Wigner/`spherical` modes to rotate. Do not give it HEALpy alms\n",
    "    lmax: Sets the number of modes (used for creating the `Wigner` object)\n",
    "    dec: The declination of the source in RADIANS\n",
    "    ra: The Right ascension of the source in RADIANS\n",
    "    lst: The local sidereal time of the source in RADIANS\n",
    "    \n",
    "    ** Output:\n",
    "    \n",
    "    rotated_modes: The modes rotated into the correct coordinates in a HA/Dec coordinate system\n",
    "      \n",
    "    \"\"\"\n",
    "    # FixMe: Make an assertion that the angles are actaully given in radian\n",
    "    \n",
    "    # Change into an HA/Dec system\n",
    "    ha = lst - ra\n",
    "    \n",
    "    # Set euler angles\n",
    "    phi = -ha\n",
    "    theta = dec\n",
    "    psi = 0\n",
    "\n",
    "    # Calculate rotation of a_lms\n",
    "    wigner = spherical.Wigner(ell_max=lmax)\n",
    "    rotate_to_coord = quaternionic.array.from_euler_angles(psi, theta, phi)\n",
    "    rotated_modes = wigner.rotate(modes, rotate_to_coord)\n",
    "    \n",
    "    return rotated_modes"
   ]
  },
  {
   "cell_type": "code",
   "execution_count": 9,
   "id": "033a999d",
   "metadata": {},
   "outputs": [],
   "source": [
    "def WignerDsize(ell_min, mp_max, ell_max=-1): # function taken from the `spherical` utilities\n",
    "    if ell_max < 0:\n",
    "        ell_max = mp_max\n",
    "    if mp_max >= ell_max:\n",
    "        return (\n",
    "            ell_max * (ell_max * (4 * ell_max + 12) + 11)\n",
    "            + ell_min * (1 - 4 * ell_min**2)\n",
    "            + 3\n",
    "        ) // 3\n",
    "    if mp_max > ell_min:\n",
    "        return (\n",
    "            3 * ell_max * (ell_max + 2)\n",
    "            + ell_min * (1 - 4 * ell_min**2)\n",
    "            + mp_max * (\n",
    "                3 * ell_max * (2 * ell_max + 4)\n",
    "                + mp_max * (-2 * mp_max - 3) + 5\n",
    "            )\n",
    "            + 3\n",
    "        ) // 3\n",
    "    else:\n",
    "        return (ell_max * (ell_max + 2) - ell_min**2) * (1 + 2 * mp_max) + 2 * mp_max + 1"
   ]
  },
  {
   "cell_type": "code",
   "execution_count": 10,
   "id": "1b8d5b68",
   "metadata": {},
   "outputs": [],
   "source": [
    "def WignerDrange(ell_min, mp_max, ell_max=-1): # function taken from the `spherical` utilities\n",
    "    \"\"\"Create an array of (ℓ, m', m) indices as in 𝔇 array\"\"\"\n",
    "    if ell_max < 0:\n",
    "        ell_max = mp_max\n",
    "    r = np.zeros((WignerDsize(ell_min, mp_max, ell_max), 3), dtype=np.int64)\n",
    "    i = 0\n",
    "    for ell in range(ell_min, ell_max+1):\n",
    "        for mp in range(-min(ell, mp_max), min(ell, mp_max)+1):\n",
    "            for m in range(-ell, ell+1):\n",
    "                r[i, 0] = ell\n",
    "                r[i, 1] = mp\n",
    "                r[i, 2] = m\n",
    "                i += 1\n",
    "    return r\n"
   ]
  },
  {
   "cell_type": "code",
   "execution_count": 11,
   "id": "fb11886d",
   "metadata": {},
   "outputs": [],
   "source": [
    "def WignerDindex(ell, mp, m, ell_min=0, mp_max=-1): # from the spherical utilities\n",
    "    \"\"\"Compute index into Wigner 𝔇 matrix\n",
    "    Parameters\n",
    "    ----------\n",
    "    ell : int\n",
    "        Integer satisfying ell_min <= ell <= ell_max\n",
    "    mp : int\n",
    "        Integer satisfying -min(ell_max, mp_max) <= mp <= min(ell_max, mp_max)\n",
    "    m : int\n",
    "        Integer satisfying -ell <= m <= ell\n",
    "    ell_min : int, optional\n",
    "        Integer satisfying 0 <= ell_min <= ell_max.  Defaults to 0.\n",
    "    mp_max : int, optional\n",
    "        Integer satisfying 0 <= mp_max.  Defaults to ell.\n",
    "    Returns\n",
    "    -------\n",
    "    i : int\n",
    "        Index into Wigner 𝔇 matrix arranged as described below\n",
    "    See Also\n",
    "    --------\n",
    "    WignerDsize : Total size of the 𝔇 matrix\n",
    "    WignerDrange : Array of (ℓ, m', m) indices corresponding to the 𝔇 matrix\n",
    "    Notes\n",
    "    -----\n",
    "    This assumes that the Wigner 𝔇 matrix is arranged as\n",
    "        [\n",
    "            𝔇(ℓ, mp, m)\n",
    "            for ℓ in range(ell_min, ell_max+1)\n",
    "            for mp in range(-min(ℓ, mp_max), min(ℓ, mp_max)+1)\n",
    "            for m in range(-ℓ, ℓ+1)\n",
    "        ]\n",
    "    \"\"\"\n",
    "    if mp_max < 0:\n",
    "        mp_max = ell\n",
    "    i = (mp + min(mp_max, ell)) * (2 * ell + 1) + m + ell\n",
    "    if ell > ell_min:\n",
    "        i += WignerDsize(ell_min, mp_max, ell-1)\n",
    "    return i"
   ]
  },
  {
   "cell_type": "code",
   "execution_count": 12,
   "id": "d4216eb0",
   "metadata": {},
   "outputs": [],
   "source": [
    "def D_matrix_1D(modes, lmax, ra, dec, ha):# ha_radian=False, ha_manual=False, to_ra=False):\n",
    "    \"\"\"\n",
    "    Rotation Euler angles for `spherical`:\n",
    "    \n",
    "      * zyz-convention\n",
    "      * Order of rotations: phi --> theta --> psi\n",
    "      * phi and theta are swapped compared to astropy \n",
    "      * phi has the opposite sign compared to astropy\n",
    "     \n",
    "    phi: (radian) Corresponds to change in HA. Sign is automatically changed to fit with `spherical`\n",
    "    theta: (radian) Corresponds to declination.\n",
    "    psi: (radian) Is per default set to zero.\n",
    "      \n",
    "\n",
    "    ** Input:\n",
    "\n",
    "    modes: Wigner/`spherical` modes to rotate. Do not give it HEALpy alms\n",
    "    lmax: Sets the number of modes (used for creating the `Wigner` object)\n",
    "    dec: The declination of the source in RADIANS\n",
    "    ha: The hour angle of the source. Assumes that it's given as a fraction of a sidereal day \n",
    "        * If ha_manual=True, input hour angle manually in HH:MM:SS.SS format. \n",
    "        * If ha_radian=True give the hour angle in radian\n",
    "        * If to_ra=True give the right ascension and lst instead in an array ha=[ra, lst]\n",
    "\n",
    "    \"\"\"\n",
    "    # FixMe: bit messy, fix assertions\n",
    "     \n",
    "    \n",
    "#     if np.size(ha)==1:\n",
    "#         if ha_radian==False and ha_manual==False and ra==False:\n",
    "#             hour_angle = np.radians(ha*360)\n",
    "        \n",
    "#         elif ha_manual==True:\n",
    "#             #inset assertion that the hour angle is given in HH:MM:SS.SS format\n",
    "        \n",
    "#             hour, minute, second = ha.split(':')\n",
    "#             time_sec = float(hour)*3600 + float(minute)*60 + float(second)\n",
    "#             hour_angle = np.radians(time_sec/(24*60*60)*360)\n",
    "\n",
    "#         elif ha_radian==True:\n",
    "#             hour_angle = ha\n",
    "            \n",
    "#     elif np.size(ha)==2:\n",
    "#         assert(to_ra==True)\n",
    "#         # maybe do it as an 'or' and have an assertion of the other element\n",
    "#         ra, lst = ha\n",
    "#         hour_angle = lst - ra\n",
    "        \n",
    "    hour_angle = np.radians(ha*360)\n",
    "              \n",
    "    # Set euler angles with 'spherical' sign convention\n",
    "#     phi = -hour_angle   ### Wrong, phi needs to be the orignal ra+ha, still doesn't work\n",
    "    phi = ra_zenith+hour_angle\n",
    "    theta = dec\n",
    "    psi = 0\n",
    "\n",
    "\n",
    "    # Calculate rotation of a_lms\n",
    "    wigner = spherical.Wigner(ell_max=lmax)\n",
    "    rotate_to_coord = quaternionic.array.from_euler_angles(psi, theta, -phi)\n",
    "    wigner_D_matrix_1D = wigner.D(rotate_to_coord)\n",
    "        \n",
    "    return wigner_D_matrix_1D"
   ]
  },
  {
   "cell_type": "code",
   "execution_count": null,
   "id": "aff294c1",
   "metadata": {},
   "outputs": [],
   "source": []
  },
  {
   "cell_type": "code",
   "execution_count": null,
   "id": "7cc0c03b",
   "metadata": {},
   "outputs": [],
   "source": []
  },
  {
   "cell_type": "code",
   "execution_count": 13,
   "id": "6ed4058a",
   "metadata": {},
   "outputs": [],
   "source": [
    "def D_matrix_per_ell_2D(D_matrix_as_1D, ell, lmax):\n",
    "    \n",
    "    assert ell <= lmax, \"ell has to be smaller or equal to lmax (ell <= lmax)\"\n",
    "    \n",
    "    m_range = np.arange(-ell,ell+1)\n",
    "    \n",
    "    # Make empty 2D D-matrix with correct shape given by m x mp\n",
    "    D_matrix_as_2D = np.zeros(shape=(np.size(m_range),np.size(m_range)), dtype=complex)\n",
    "        \n",
    "    m_count = 0\n",
    "    for m in m_range:\n",
    "        \n",
    "        mp_count=0\n",
    "\n",
    "        for mp in np.arange(-ell, ell+1):\n",
    "            # Get the correct value from the 1D D-matrix\n",
    "            index = WignerDindex(ell, mp, m, ell_min=0, mp_max=lmax)\n",
    "            value = D_matrix_as_1D[index]\n",
    "            \n",
    "            # Save it into the correct index in the 2D D-matrix\n",
    "            D_matrix_as_2D[m_count, mp_count] = value\n",
    "    \n",
    "            mp_count += 1\n",
    "\n",
    "        m_count += 1\n",
    "    \n",
    "    return D_matrix_as_2D"
   ]
  },
  {
   "cell_type": "code",
   "execution_count": 14,
   "id": "3cfc104c",
   "metadata": {},
   "outputs": [],
   "source": [
    "def combined_D_matrix(D_matrix_1D, lmax):\n",
    "    '''\n",
    "    Calculate the separate 2D D-matrices per ell-value, combined into one block diagonal matrix\n",
    "    '''\n",
    "   \n",
    "    combined_D = np.zeros(shape=0, dtype=complex)\n",
    "\n",
    "    for ell in np.arange(0,lmax+1):\n",
    "        ell_value = ell\n",
    "        \n",
    "        D_matrix_2D = D_matrix_per_ell_2D(D_matrix_1D, ell_value, lmax)\n",
    "        \n",
    "        if ell_value == 0:\n",
    "            combined_D = D_matrix_2D\n",
    "        else:\n",
    "            combined_D = sp.linalg.block_diag(combined_D, D_matrix_2D)\n",
    "        \n",
    "    return combined_D\n",
    "\n",
    "# np.shape(combined_D_matrix(D_matrix, lmax))"
   ]
  },
  {
   "cell_type": "code",
   "execution_count": 15,
   "id": "85a5c268",
   "metadata": {},
   "outputs": [],
   "source": [
    "def rotate_modes_D_matrix(D_matrix_1D, modes, lmax):\n",
    "    '''\n",
    "    Calculate the separate D-matrices per ell-value, apply the rotations, combine into one modes-array\n",
    "    '''\n",
    "    # get pandas dataframe with indices ordered as (i, ell, m)\n",
    "    my_wigner_df = get_index_dataframe(lmax)\n",
    "    all_ell_list = my_wigner_df.copy().to_numpy()[:,0]\n",
    "    \n",
    "    \n",
    "    D_rot_modes = np.zeros(shape=0, dtype=complex)\n",
    "\n",
    "    for ell in np.arange(0,lmax+1):\n",
    "        ell_value = ell\n",
    "        indices = np.where(all_ell_list == ell_value)\n",
    "        modes_per_ell = np.dot(D_matrix_per_ell_2D(D_matrix_1D, ell_value, lmax), modes[indices])\n",
    "        D_rot_modes = np.concatenate((D_rot_modes, modes_per_ell), axis=0)\n",
    "        \n",
    "    return D_rot_modes"
   ]
  },
  {
   "cell_type": "code",
   "execution_count": 16,
   "id": "dfce8aa5",
   "metadata": {},
   "outputs": [],
   "source": [
    "# Resolution\n",
    "nside=1024\n",
    "\n",
    "# HERA location\n",
    "location = EarthLocation.from_geodetic(lat=-30.7215,\n",
    "                                       lon=21.4283,\n",
    "                                       height=1073.)\n",
    "# Observation time 0\n",
    "obstime0 = Time('2022-06-27T01:02:30.11', format='isot', scale='utc') \n",
    "\n",
    "# Calculate zenith coordinates\n",
    "ra_zenith, dec_zenith, lst, pix_zenith = get_zenith_coord(nside=nside, location=location, obstime=obstime0)"
   ]
  },
  {
   "cell_type": "code",
   "execution_count": 17,
   "id": "58de305a",
   "metadata": {},
   "outputs": [],
   "source": [
    "# Choose values for alms\n",
    "real=1\n",
    "imag=0j # positive moves it to the left\n",
    "real_0=0\n",
    "\n",
    "lmax = 2\n",
    "ell_mode = 1\n",
    "\n"
   ]
  },
  {
   "cell_type": "code",
   "execution_count": 18,
   "id": "18214a94",
   "metadata": {},
   "outputs": [],
   "source": [
    "# Calculate modes and alms\n",
    "modes, alms = create_modes(real, imag, real_0, lmax, ell_mode)\n",
    "\n",
    "# Use Wigner rotations directly to 'rotate' into the zenith above HERA\n",
    "modes_init = spherical_rotate_modes(modes=modes,\n",
    "                                   lmax=lmax,\n",
    "                                   theta=dec_zenith,\n",
    "                                   phi=ra_zenith)\n",
    "\n",
    "# # This essentially does the same as \"spherical_rotate_modes\" but in HA/Dec\n",
    "# source_modes = spherical_set_coords(modes=modes,\n",
    "#                                     lmax=lmax,\n",
    "#                                     dec=dec_zenith,\n",
    "#                                     ra=ra_zenith,\n",
    "#                                     lst=lst)"
   ]
  },
  {
   "cell_type": "code",
   "execution_count": 19,
   "id": "65021111",
   "metadata": {},
   "outputs": [
    {
     "name": "stdout",
     "output_type": "stream",
     "text": [
      "(35,)\n",
      "9.107775435453483\n"
     ]
    },
    {
     "data": {
      "text/plain": [
       "5.442584006265391"
      ]
     },
     "execution_count": 19,
     "metadata": {},
     "output_type": "execute_result"
    }
   ],
   "source": [
    "# Second observation time \n",
    "obstime1 = Time('2022-06-27T15:02:30.11', format='isot', scale='utc') \n",
    "\n",
    "# Time of rotation given as fraction of a sidereal day\n",
    "rotation_time = (obstime1-obstime0).value\n",
    "\n",
    "# This is where the D-matrix is first calculated\n",
    "# D_matrix = D_matrix_1D(modes=modes, lmax=lmax, theta=dec_zenith, phi=ra_zenith)\n",
    "D_matrix = D_matrix_1D(modes=modes_init, lmax=lmax, ra=ra_zenith, dec=dec_zenith, ha=rotation_time)\n",
    "\n",
    "\n",
    "\n",
    "print(np.shape(D_matrix))\n",
    "#rotate_to_coord = quaternionic.array.from_euler_angles(0, dec_zenith, -ra_zenith)\n",
    "rotation_time\n",
    "print(ra_zenith+np.radians(rotation_time*360))\n",
    "ra_zenith"
   ]
  },
  {
   "cell_type": "code",
   "execution_count": 20,
   "id": "4530772d",
   "metadata": {},
   "outputs": [],
   "source": [
    "\n",
    "# D_range = WignerDrange(0, lmax, lmax)\n",
    "# print(np.shape(D_range))\n",
    "# print(D_range)\n",
    "# print(D_range[:,0])\n",
    "# print(WignerDsize(0, lmax, lmax))"
   ]
  },
  {
   "cell_type": "code",
   "execution_count": null,
   "id": "05468d86",
   "metadata": {},
   "outputs": [],
   "source": []
  },
  {
   "cell_type": "code",
   "execution_count": 21,
   "id": "d84acef4",
   "metadata": {},
   "outputs": [],
   "source": [
    "\n",
    "\n",
    "# WignerDindex(ell=D_range[:,0], mp=D_range[:,1], m=D_range[:,2], ell_min=0, mp_max=lmax)\n",
    "\n",
    "#WignerDindex(ell=D_range[3,0], mp=D_range[3,1], m=D_range[3,2], ell_min=0, mp_max=lmax)"
   ]
  },
  {
   "cell_type": "code",
   "execution_count": 22,
   "id": "764103a7",
   "metadata": {},
   "outputs": [],
   "source": [
    "# #test_matrix = np.arange(0,35)+1\n",
    "# test_matrix = D_range[:,0]\n",
    "\n",
    "\n",
    "# for ell_value in np.arange(0,lmax+1):\n",
    "    \n",
    "#     m_range = np.arange(-ell_value,ell_value+1)\n",
    "#     ell_matrix = np.zeros(shape=(np.size(m_range),np.size(m_range)))\n",
    "# #     print(ell_matrix)\n",
    "        \n",
    "#     m_count = 0\n",
    "#     for m_value in m_range:\n",
    "        \n",
    "#         mp_count=0\n",
    "\n",
    "#         for mp_value in np.arange(-ell_value, ell_value+1):\n",
    "            \n",
    "#             index = WignerDindex(ell=ell_value, mp=mp_value, m=m_value, ell_min=0, mp_max=lmax)\n",
    "#             value = test_matrix[index]\n",
    "            \n",
    "#             ell_matrix[m_count,mp_count] = value\n",
    "    \n",
    "#             mp_count += 1\n",
    "\n",
    "#         m_count += 1\n",
    "    \n",
    "#     # so far so good! Now I just need to save out the three matrices. Maybe via sparse matrices?\n",
    "#     print(ell_matrix)\n",
    "# # D_range[]\n"
   ]
  },
  {
   "cell_type": "code",
   "execution_count": null,
   "id": "b683c19b",
   "metadata": {},
   "outputs": [],
   "source": [
    "\n"
   ]
  },
  {
   "cell_type": "code",
   "execution_count": 23,
   "id": "08705b68",
   "metadata": {},
   "outputs": [
    {
     "name": "stdout",
     "output_type": "stream",
     "text": [
      "[[-0.88314596+2.89730201e-01j -0.3440802 +1.12881029e-01j\n",
      "  -0.06702809+2.19896418e-02j]\n",
      " [-0.36212333-1.00509416e-17j  0.85891407+0.00000000e+00j\n",
      "   0.36212333-1.00509416e-17j]\n",
      " [-0.06702809-2.19896418e-02j  0.3440802 +1.12881029e-01j\n",
      "  -0.88314596-2.89730201e-01j]]\n"
     ]
    }
   ],
   "source": [
    "print(D_matrix_per_ell_2D(D_matrix, 1, lmax))"
   ]
  },
  {
   "cell_type": "code",
   "execution_count": 24,
   "id": "5a043c6b",
   "metadata": {},
   "outputs": [
    {
     "name": "stdout",
     "output_type": "stream",
     "text": [
      "[0. 1. 1. 1. 2. 2. 2. 2. 2.]\n",
      "\n",
      " Rotated modes for =1 is: \n",
      "\n",
      " [-0.81611787+0.26774056j -0.72424667+0.j          0.81611787+0.26774056j]\n"
     ]
    }
   ],
   "source": [
    "# get pandas dataframe with indices ordered as (i, ell, m)\n",
    "my_wigner_df = get_index_dataframe(lmax)#, ell=ell_mode)\n",
    "all_ell_list = my_wigner_df.copy().to_numpy()[:,0]\n",
    "\n",
    "print(all_ell_list)\n",
    "\n",
    "\n",
    "\n",
    "ell_value = 1 \n",
    "indices = np.where(all_ell_list == 1)\n",
    "print(f'\\n Rotated modes for ={ell_value} is: \\n\\n {np.dot(D_matrix_per_ell_2D(D_matrix, ell_value, lmax), modes[indices])}')"
   ]
  },
  {
   "cell_type": "code",
   "execution_count": 26,
   "id": "7cd0f613",
   "metadata": {},
   "outputs": [
    {
     "name": "stdout",
     "output_type": "stream",
     "text": [
      "[ 0.        +0.j         -0.81611787+0.26774056j -0.72424667+0.j\n",
      "  0.81611787+0.26774056j  0.        +0.j          0.        +0.j\n",
      "  0.        +0.j          0.        +0.j          0.        +0.j        ]\n"
     ]
    }
   ],
   "source": [
    "# Create and check that the total calcualted D-matrix also results in the same rotated \n",
    "# modes as when rotated using the `spherical` code\n",
    "new_modes = np.zeros(shape=0, dtype=complex)\n",
    "\n",
    "for ell in np.arange(0,lmax+1):\n",
    "    ell_value = ell\n",
    "    indices = np.where(all_ell_list == ell_value)\n",
    "    modes_per_ell = np.dot(D_matrix_per_ell_2D(D_matrix, ell_value, lmax), modes[indices])\n",
    "#     print(np.dot(D_matrix_per_ell_2D(D_matrix, ell_value, lmax), modes[indices]))\n",
    "    new_modes = np.concatenate((new_modes, modes_per_ell), axis=0)\n",
    "\n",
    "print(new_modes)\n",
    "#modes_rot == new_modes"
   ]
  },
  {
   "cell_type": "code",
   "execution_count": 27,
   "id": "11268dbf",
   "metadata": {},
   "outputs": [
    {
     "data": {
      "text/plain": [
       "array([ 0.        +0.j        , -0.81611787+0.26774056j,\n",
       "       -0.72424667+0.j        ,  0.81611787+0.26774056j,\n",
       "        0.        +0.j        ,  0.        +0.j        ,\n",
       "        0.        +0.j        ,  0.        +0.j        ,\n",
       "        0.        +0.j        ])"
      ]
     },
     "execution_count": 27,
     "metadata": {},
     "output_type": "execute_result"
    }
   ],
   "source": [
    "np.dot(combined_D_matrix(D_matrix, lmax), modes)\n"
   ]
  },
  {
   "cell_type": "code",
   "execution_count": 28,
   "id": "00facfcb",
   "metadata": {},
   "outputs": [],
   "source": [
    "#combined_D_matrix(D_matrix, lmax)"
   ]
  },
  {
   "cell_type": "code",
   "execution_count": 29,
   "id": "d504b91e",
   "metadata": {},
   "outputs": [
    {
     "name": "stdout",
     "output_type": "stream",
     "text": [
      "[ True  True  True  True  True  True  True  True  True]\n",
      "[ True  True  True  True  True  True  True  True  True]\n"
     ]
    },
    {
     "ename": "NameError",
     "evalue": "name 'modes_rot' is not defined",
     "output_type": "error",
     "traceback": [
      "\u001b[0;31m---------------------------------------------------------------------------\u001b[0m",
      "\u001b[0;31mNameError\u001b[0m                                 Traceback (most recent call last)",
      "\u001b[0;32m/tmp/ipykernel_968172/2913161306.py\u001b[0m in \u001b[0;36m<module>\u001b[0;34m\u001b[0m\n\u001b[1;32m      3\u001b[0m \u001b[0mprint\u001b[0m\u001b[0;34m(\u001b[0m\u001b[0mD_rot_modes\u001b[0m \u001b[0;34m==\u001b[0m \u001b[0mnp\u001b[0m\u001b[0;34m.\u001b[0m\u001b[0mdot\u001b[0m\u001b[0;34m(\u001b[0m\u001b[0mcombined_D_matrix\u001b[0m\u001b[0;34m(\u001b[0m\u001b[0mD_matrix\u001b[0m\u001b[0;34m,\u001b[0m \u001b[0mlmax\u001b[0m\u001b[0;34m)\u001b[0m\u001b[0;34m,\u001b[0m \u001b[0mmodes\u001b[0m\u001b[0;34m)\u001b[0m\u001b[0;34m)\u001b[0m\u001b[0;34m\u001b[0m\u001b[0;34m\u001b[0m\u001b[0m\n\u001b[1;32m      4\u001b[0m \u001b[0mprint\u001b[0m\u001b[0;34m(\u001b[0m\u001b[0mD_rot_modes\u001b[0m \u001b[0;34m==\u001b[0m \u001b[0mnew_modes\u001b[0m\u001b[0;34m)\u001b[0m\u001b[0;34m\u001b[0m\u001b[0;34m\u001b[0m\u001b[0m\n\u001b[0;32m----> 5\u001b[0;31m \u001b[0mprint\u001b[0m\u001b[0;34m(\u001b[0m\u001b[0mD_rot_modes\u001b[0m \u001b[0;34m==\u001b[0m \u001b[0mmodes_rot\u001b[0m\u001b[0;34m)\u001b[0m\u001b[0;34m\u001b[0m\u001b[0;34m\u001b[0m\u001b[0m\n\u001b[0m",
      "\u001b[0;31mNameError\u001b[0m: name 'modes_rot' is not defined"
     ]
    }
   ],
   "source": [
    "D_rot_modes = rotate_modes_D_matrix(D_matrix, modes, lmax) \n",
    "\n",
    "print(D_rot_modes == np.dot(combined_D_matrix(D_matrix, lmax), modes))\n",
    "print(D_rot_modes == new_modes)\n",
    "print(D_rot_modes == modes_rot)"
   ]
  },
  {
   "cell_type": "code",
   "execution_count": null,
   "id": "a186f0ba",
   "metadata": {},
   "outputs": [],
   "source": []
  },
  {
   "cell_type": "code",
   "execution_count": null,
   "id": "7f5f8e29",
   "metadata": {},
   "outputs": [],
   "source": []
  },
  {
   "cell_type": "code",
   "execution_count": null,
   "id": "3433938b",
   "metadata": {},
   "outputs": [],
   "source": []
  },
  {
   "cell_type": "code",
   "execution_count": 30,
   "id": "c4e68ccf",
   "metadata": {},
   "outputs": [
    {
     "ename": "NameError",
     "evalue": "name 'modes_rot' is not defined",
     "output_type": "error",
     "traceback": [
      "\u001b[0;31m---------------------------------------------------------------------------\u001b[0m",
      "\u001b[0;31mNameError\u001b[0m                                 Traceback (most recent call last)",
      "\u001b[0;32m/tmp/ipykernel_968172/531712182.py\u001b[0m in \u001b[0;36m<module>\u001b[0;34m\u001b[0m\n\u001b[1;32m      2\u001b[0m \u001b[0mrot_wigner_ordered_map\u001b[0m \u001b[0;34m=\u001b[0m \u001b[0mmodes2map\u001b[0m\u001b[0;34m(\u001b[0m\u001b[0mmodes\u001b[0m\u001b[0;34m=\u001b[0m\u001b[0mD_rot_modes\u001b[0m\u001b[0;34m,\u001b[0m \u001b[0mnside\u001b[0m\u001b[0;34m=\u001b[0m\u001b[0mnside\u001b[0m\u001b[0;34m,\u001b[0m \u001b[0mlmax\u001b[0m\u001b[0;34m=\u001b[0m\u001b[0mlmax\u001b[0m\u001b[0;34m,\u001b[0m \u001b[0mell_mode\u001b[0m\u001b[0;34m=\u001b[0m\u001b[0mell_mode\u001b[0m\u001b[0;34m)\u001b[0m\u001b[0;34m\u001b[0m\u001b[0;34m\u001b[0m\u001b[0m\n\u001b[1;32m      3\u001b[0m \u001b[0;31m# rot_wigner_ordered_map = modes2map(modes=modes_rot, nside=nside, lmax=lmax, ell_mode=ell_mode)\u001b[0m\u001b[0;34m\u001b[0m\u001b[0;34m\u001b[0m\u001b[0m\n\u001b[0;32m----> 4\u001b[0;31m \u001b[0morig_map\u001b[0m \u001b[0;34m=\u001b[0m \u001b[0mmodes2map\u001b[0m\u001b[0;34m(\u001b[0m\u001b[0mmodes\u001b[0m\u001b[0;34m=\u001b[0m\u001b[0mmodes_rot\u001b[0m\u001b[0;34m,\u001b[0m \u001b[0mnside\u001b[0m\u001b[0;34m=\u001b[0m\u001b[0mnside\u001b[0m\u001b[0;34m,\u001b[0m \u001b[0mlmax\u001b[0m\u001b[0;34m=\u001b[0m\u001b[0mlmax\u001b[0m\u001b[0;34m,\u001b[0m \u001b[0mell_mode\u001b[0m\u001b[0;34m=\u001b[0m\u001b[0mell_mode\u001b[0m\u001b[0;34m)\u001b[0m\u001b[0;34m\u001b[0m\u001b[0;34m\u001b[0m\u001b[0m\n\u001b[0m",
      "\u001b[0;31mNameError\u001b[0m: name 'modes_rot' is not defined"
     ]
    }
   ],
   "source": [
    "# Order the modes to fit with HEALpy\n",
    "rot_wigner_ordered_map = modes2map(modes=D_rot_modes, nside=nside, lmax=lmax, ell_mode=ell_mode)\n",
    "# rot_wigner_ordered_map = modes2map(modes=modes_rot, nside=nside, lmax=lmax, ell_mode=ell_mode)\n",
    "orig_map = modes2map(modes=modes_rot, nside=nside, lmax=lmax, ell_mode=ell_mode)"
   ]
  },
  {
   "cell_type": "code",
   "execution_count": 31,
   "id": "35948d04",
   "metadata": {},
   "outputs": [
    {
     "ename": "NameError",
     "evalue": "name 'orig_map' is not defined",
     "output_type": "error",
     "traceback": [
      "\u001b[0;31m---------------------------------------------------------------------------\u001b[0m",
      "\u001b[0;31mNameError\u001b[0m                                 Traceback (most recent call last)",
      "\u001b[0;32m/tmp/ipykernel_968172/2129425813.py\u001b[0m in \u001b[0;36m<module>\u001b[0;34m\u001b[0m\n\u001b[1;32m     34\u001b[0m     \u001b[0mfig\u001b[0m\u001b[0;34m.\u001b[0m\u001b[0msavefig\u001b[0m\u001b[0;34m(\u001b[0m\u001b[0;34mf'{skymap}.png'\u001b[0m\u001b[0;34m,\u001b[0m \u001b[0mbbox_inches\u001b[0m\u001b[0;34m=\u001b[0m\u001b[0;34m'tight'\u001b[0m\u001b[0;34m,\u001b[0m \u001b[0mtransparent\u001b[0m\u001b[0;34m=\u001b[0m\u001b[0;32mTrue\u001b[0m\u001b[0;34m,\u001b[0m \u001b[0mdpi\u001b[0m\u001b[0;34m=\u001b[0m\u001b[0mfig\u001b[0m\u001b[0;34m.\u001b[0m\u001b[0mdpi\u001b[0m\u001b[0;34m)\u001b[0m\u001b[0;34m\u001b[0m\u001b[0;34m\u001b[0m\u001b[0m\n\u001b[1;32m     35\u001b[0m \u001b[0;34m\u001b[0m\u001b[0m\n\u001b[0;32m---> 36\u001b[0;31m \u001b[0mposter_map_plot\u001b[0m\u001b[0;34m(\u001b[0m\u001b[0mskymap\u001b[0m\u001b[0;34m=\u001b[0m\u001b[0morig_map\u001b[0m\u001b[0;34m)\u001b[0m\u001b[0;34m\u001b[0m\u001b[0;34m\u001b[0m\u001b[0m\n\u001b[0m\u001b[1;32m     37\u001b[0m \u001b[0mposter_map_plot\u001b[0m\u001b[0;34m(\u001b[0m\u001b[0mskymap\u001b[0m\u001b[0;34m=\u001b[0m\u001b[0mrot_wigner_ordered_map\u001b[0m\u001b[0;34m)\u001b[0m\u001b[0;34m\u001b[0m\u001b[0;34m\u001b[0m\u001b[0m\n",
      "\u001b[0;31mNameError\u001b[0m: name 'orig_map' is not defined"
     ]
    }
   ],
   "source": [
    "def poster_map_plot(skymap):\n",
    "    # Find dipole peak\n",
    "    mmax = skymap.max()              # max value\n",
    "    imax = np.where(skymap == mmax) \n",
    "    max_vec = hp.pix2vec(nside, ipix=imax)\n",
    "    max_mark = hp.query_disc(nside, vec=max_vec, radius=0.03)\n",
    "    print(f'Check: Is the dipole pointing to zenith?\\t {imax==pix_zenith}')  #### FixMe: Turn this into an assertion\n",
    "\n",
    "    rot_dipole_with_peak = skymap.copy() # for plotting purposes only\n",
    "    rot_dipole_with_peak[max_mark]=-mmax\n",
    "\n",
    "\n",
    "    # PLOTTING SECTION\n",
    "    # hp.cartview(dipole_with_peak)\n",
    "    #hp.mollview(rot_dipole_with_peak)\n",
    "    #hp.graticule()\n",
    "    #plt.title(\"original map, zenith above HERA\")\n",
    "    #plt.show()\n",
    "    \n",
    "    ###### Plot section ######\n",
    "    fig, (ax2) = plt.subplots(ncols=1, figsize=(30,15))\n",
    "    plt.axes(ax2)\n",
    "\n",
    "    hp.mollview(rot_dipole_with_peak, title='',\n",
    "                #title=rf\"Wigner rotated map by ({theta}$^\\circ$, {phi}$^\\circ$)\", cmap=cmo.haline)\n",
    "                cmap='cividis', #cmo.haline,\n",
    "                hold=True,\n",
    "                notext=True,\n",
    "                bgcolor=\"#d5bc5e00\"\n",
    "               )\n",
    "    hp.graticule()\n",
    "\n",
    "    fig.delaxes(fig.axes[1]) # removes colourbar\n",
    "    fig.savefig(f'{skymap}.png', bbox_inches='tight', transparent=True, dpi=fig.dpi)\n",
    "    \n",
    "poster_map_plot(skymap=orig_map)\n",
    "poster_map_plot(skymap=rot_wigner_ordered_map)"
   ]
  },
  {
   "cell_type": "markdown",
   "id": "c7de30a9",
   "metadata": {},
   "source": [
    "# Use the peak of a dipole to check the rotations also match astropy"
   ]
  },
  {
   "cell_type": "code",
   "execution_count": 32,
   "id": "10ae3682",
   "metadata": {},
   "outputs": [
    {
     "name": "stderr",
     "output_type": "stream",
     "text": [
      "0.0 180.0 -180.0 180.0\n"
     ]
    },
    {
     "name": "stdout",
     "output_type": "stream",
     "text": [
      "Check: Is the dipole pointing to zenith?\t [[False]]\n"
     ]
    },
    {
     "data": {
      "image/png": "[encoded data removed]",
      "text/plain": [
       "<Figure size 612x388.8 with 2 Axes>"
      ]
     },
     "metadata": {
      "needs_background": "light"
     },
     "output_type": "display_data"
    }
   ],
   "source": [
    "\n",
    "\n",
    "# Find dipole peak\n",
    "mmax = rot_wigner_ordered_map.max()              # max value\n",
    "imax = np.where(rot_wigner_ordered_map == mmax) \n",
    "max_vec = hp.pix2vec(nside, ipix=imax)\n",
    "max_mark = hp.query_disc(nside, vec=max_vec, radius=0.03)\n",
    "print(f'Check: Is the dipole pointing to zenith?\\t {imax==pix_zenith}')  #### FixMe: Turn this into an assertion\n",
    "\n",
    "rot_dipole_with_peak = rot_wigner_ordered_map.copy() # for plotting purposes only\n",
    "rot_dipole_with_peak[max_mark]=-mmax\n",
    "\n",
    "\n",
    "# PLOTTING SECTION\n",
    "# hp.cartview(dipole_with_peak)\n",
    "hp.mollview(rot_dipole_with_peak)\n",
    "hp.graticule()\n",
    "plt.title(\"Rotated (spherical) to zenith above HERA\")\n",
    "plt.show()\n"
   ]
  },
  {
   "cell_type": "markdown",
   "id": "0a985c07",
   "metadata": {},
   "source": [
    "# Rotate the point one full day using D-matrix rotations"
   ]
  },
  {
   "cell_type": "code",
   "execution_count": 33,
   "id": "5bf45633",
   "metadata": {
    "scrolled": false
   },
   "outputs": [
    {
     "ename": "NameError",
     "evalue": "name 'modes_rot' is not defined",
     "output_type": "error",
     "traceback": [
      "\u001b[0;31m---------------------------------------------------------------------------\u001b[0m",
      "\u001b[0;31mNameError\u001b[0m                                 Traceback (most recent call last)",
      "\u001b[0;32m/tmp/ipykernel_968172/2070147063.py\u001b[0m in \u001b[0;36m<module>\u001b[0;34m\u001b[0m\n\u001b[1;32m     16\u001b[0m \u001b[0mmax_dipoles\u001b[0m \u001b[0;34m=\u001b[0m \u001b[0mlist\u001b[0m\u001b[0;34m(\u001b[0m\u001b[0;34m)\u001b[0m\u001b[0;34m\u001b[0m\u001b[0;34m\u001b[0m\u001b[0m\n\u001b[1;32m     17\u001b[0m \u001b[0mmax_dipoles_plot\u001b[0m \u001b[0;34m=\u001b[0m \u001b[0mlist\u001b[0m\u001b[0;34m(\u001b[0m\u001b[0;34m)\u001b[0m\u001b[0;34m\u001b[0m\u001b[0;34m\u001b[0m\u001b[0m\n\u001b[0;32m---> 18\u001b[0;31m \u001b[0mrotate_modes\u001b[0m \u001b[0;34m=\u001b[0m \u001b[0mmodes_rot\u001b[0m\u001b[0;34m.\u001b[0m\u001b[0mcopy\u001b[0m\u001b[0;34m(\u001b[0m\u001b[0;34m)\u001b[0m\u001b[0;34m\u001b[0m\u001b[0;34m\u001b[0m\u001b[0m\n\u001b[0m\u001b[1;32m     19\u001b[0m \u001b[0;34m\u001b[0m\u001b[0m\n\u001b[1;32m     20\u001b[0m \u001b[0mj\u001b[0m \u001b[0;34m=\u001b[0m \u001b[0;36m0\u001b[0m\u001b[0;34m\u001b[0m\u001b[0;34m\u001b[0m\u001b[0m\n",
      "\u001b[0;31mNameError\u001b[0m: name 'modes_rot' is not defined"
     ]
    }
   ],
   "source": [
    "# ROTATION EULER ANGLES for `spherical`\n",
    "\"\"\"\n",
    "  zyz-convention\n",
    "  phi --> theta --> psi\n",
    "  phi and theta are swapped compared to astropy \n",
    "  phi has the opposite sign\n",
    "\n",
    "  ==> theta is negative longitude, phi is latitude, psi is zero\n",
    "\"\"\"\n",
    "\n",
    "full_day_ras = np.linspace(0,2*np.pi,200)\n",
    "\n",
    "# initialise loop:\n",
    "peaks = np.zeros(shape=full_day_ras.size, dtype=int)\n",
    "# max_vecs = np.zeros(shape=(3,full_day_ras.size))\n",
    "max_dipoles = list()\n",
    "max_dipoles_plot = list()\n",
    "rotate_modes = modes_rot.copy()\n",
    "\n",
    "j = 0\n",
    "\n",
    "for phi in full_day_ras:\n",
    "    psi, theta = 0, 0#np.radians(dec_zenith)\n",
    "\n",
    "    \n",
    "    # Calculate rotation of a_lms\n",
    "    rotate_modes = spherical_rotate_modes(modes=rotate_modes, lmax=lmax, theta=theta, phi=phi)\n",
    "\n",
    "    # Order the modes to fit with HEALpy\n",
    "    rot_wigner_ordered_map = modes2map(modes=rotate_modes, nside=nside, lmax=lmax, ell_mode=ell_mode)\n",
    "\n",
    "    # Find dipole peak\n",
    "    mmax = rot_wigner_ordered_map.max()              # max value\n",
    "    imax = np.where(rot_wigner_ordered_map == mmax) \n",
    "    max_vec = hp.pix2vec(nside, ipix=imax)\n",
    "    max_dipole_plot = hp.query_disc(nside, vec=max_vec, radius=0.03) # larger radius for visualisation\n",
    "    max_dipole = hp.query_disc(nside, vec=max_vec, radius=0.001)\n",
    "    \n",
    "    peaks[j] = imax[0]\n",
    "    max_dipoles.append(max_dipole)\n",
    "    max_dipoles_plot.append(max_dipole_plot)\n",
    "        \n",
    "    j+=1\n",
    "\n",
    "max_dipoles_plot = np.concatenate(max_dipoles_plot).ravel()  \n",
    "max_dipoles = np.concatenate(max_dipoles).ravel()  # turn it into one long array"
   ]
  },
  {
   "cell_type": "code",
   "execution_count": null,
   "id": "56f1b52a",
   "metadata": {},
   "outputs": [],
   "source": []
  },
  {
   "cell_type": "code",
   "execution_count": null,
   "id": "a001a054",
   "metadata": {},
   "outputs": [],
   "source": [
    "rotation_map = np.zeros(shape=hp.nside2npix(nside))\n",
    "\n",
    "\n",
    "# rotation_map[max_mark] = -100 \n",
    "rotation_map[max_dipoles_plot] = 100   # Marking the rotated points\n",
    "rotation_map[max_mark] = -100          # Re-marking the original point in a different colour\n",
    "\n",
    "\n",
    "# PLOTTING SECTION\n",
    "hp.mollview(rotation_map)\n",
    "hp.graticule()\n",
    "plt.title(f\"Rotation of a full day \\nstart obstime = {obstime0}\")\n",
    "plt.show()"
   ]
  },
  {
   "cell_type": "code",
   "execution_count": null,
   "id": "7e3036e9",
   "metadata": {},
   "outputs": [],
   "source": [
    "ra_rotated, dec_rotated = hp.pix2ang(nside, ipix=peaks, lonlat=True)\n",
    "coord_rot_radec = SkyCoord(ra=ra_rotated, dec=dec_rotated, unit=\"deg\", frame='icrs')"
   ]
  },
  {
   "cell_type": "code",
   "execution_count": null,
   "id": "4d7ec0f2",
   "metadata": {},
   "outputs": [],
   "source": [
    "# Is it correct to just use obstime0? \n",
    "coord_rot_altaz = coord_rot_radec.transform_to(AltAz(obstime=obstime0, location=location)) \n",
    "#el, az = coord_rot_altaz.alt.rad, coord_rot_altaz.az.rad\n",
    "el, az = coord_rot_altaz.alt.deg, coord_rot_altaz.az.deg\n",
    "\n",
    "za = np.pi/2-el\n",
    "# print(za)"
   ]
  },
  {
   "cell_type": "code",
   "execution_count": null,
   "id": "191e29a7",
   "metadata": {},
   "outputs": [],
   "source": [
    "plt.plot(coord_rot_radec.ra,coord_rot_radec.dec,'k.')\n",
    "plt.xlabel('RA')\n",
    "plt.ylabel('dec')\n",
    "plt.title('wigner rotations')\n",
    "\n",
    "plt.figure()\n",
    "plt.plot(az,za,'k.')\n",
    "plt.xlabel('azimuth')\n",
    "plt.ylabel('zenith angle')\n",
    "plt.title('wigner rotations')"
   ]
  },
  {
   "cell_type": "code",
   "execution_count": null,
   "id": "a32deeda",
   "metadata": {},
   "outputs": [],
   "source": [
    "plt.plot(az,el,'k.')\n",
    "plt.xlabel('Az')\n",
    "plt.ylabel('Alt')"
   ]
  },
  {
   "attachments": {
    "image-2.png": {
     "image/png": "[encoded data removed]"
    },
    "image-3.png": {
     "image/png": "[encoded data removed]"
    },
    "image.png": {
     "image/png": "[encoded data removed]"
    }
   },
   "cell_type": "markdown",
   "id": "4a6edfd5",
   "metadata": {},
   "source": [
    "## From test runs of the script:\n",
    "![image.png](attachment:image.png)\n",
    "![image-2.png](attachment:image-2.png)\n",
    "![image-3.png](attachment:image-3.png)"
   ]
  },
  {
   "cell_type": "code",
   "execution_count": null,
   "id": "9345af45",
   "metadata": {},
   "outputs": [],
   "source": []
  },
  {
   "cell_type": "markdown",
   "id": "6056a978",
   "metadata": {},
   "source": [
    "## Check of coordinate system orientation"
   ]
  },
  {
   "cell_type": "code",
   "execution_count": 36,
   "id": "a55356d3",
   "metadata": {},
   "outputs": [
    {
     "ename": "NameError",
     "evalue": "name 'theta' is not defined",
     "output_type": "error",
     "traceback": [
      "\u001b[0;31m---------------------------------------------------------------------------\u001b[0m",
      "\u001b[0;31mNameError\u001b[0m                                 Traceback (most recent call last)",
      "\u001b[0;32m/tmp/ipykernel_968172/1268505352.py\u001b[0m in \u001b[0;36m<module>\u001b[0;34m\u001b[0m\n\u001b[1;32m     74\u001b[0m \u001b[0;34m\u001b[0m\u001b[0m\n\u001b[1;32m     75\u001b[0m \u001b[0;34m\u001b[0m\u001b[0m\n\u001b[0;32m---> 76\u001b[0;31m \u001b[0morientation_check\u001b[0m\u001b[0;34m(\u001b[0m\u001b[0;34m)\u001b[0m\u001b[0;34m\u001b[0m\u001b[0;34m\u001b[0m\u001b[0m\n\u001b[0m",
      "\u001b[0;32m/tmp/ipykernel_968172/1268505352.py\u001b[0m in \u001b[0;36morientation_check\u001b[0;34m()\u001b[0m\n\u001b[1;32m     23\u001b[0m     \u001b[0;31m# Use Wigner rotations to 'rotate' into the zenith above HERA\u001b[0m\u001b[0;34m\u001b[0m\u001b[0;34m\u001b[0m\u001b[0m\n\u001b[1;32m     24\u001b[0m     \u001b[0;32mfor\u001b[0m \u001b[0mtheta_check\u001b[0m \u001b[0;32min\u001b[0m \u001b[0mthetas_check\u001b[0m\u001b[0;34m:\u001b[0m\u001b[0;34m\u001b[0m\u001b[0;34m\u001b[0m\u001b[0m\n\u001b[0;32m---> 25\u001b[0;31m         \u001b[0mmodes_rot\u001b[0m \u001b[0;34m=\u001b[0m \u001b[0mspherical_rotate_modes\u001b[0m\u001b[0;34m(\u001b[0m\u001b[0mmodes\u001b[0m\u001b[0;34m=\u001b[0m\u001b[0mmodes\u001b[0m\u001b[0;34m,\u001b[0m \u001b[0mlmax\u001b[0m\u001b[0;34m=\u001b[0m\u001b[0mlmax\u001b[0m\u001b[0;34m,\u001b[0m \u001b[0mtheta\u001b[0m\u001b[0;34m=\u001b[0m\u001b[0mtheta\u001b[0m\u001b[0;34m,\u001b[0m \u001b[0mphi\u001b[0m\u001b[0;34m=\u001b[0m\u001b[0mphi_check\u001b[0m\u001b[0;34m)\u001b[0m\u001b[0;34m\u001b[0m\u001b[0;34m\u001b[0m\u001b[0m\n\u001b[0m\u001b[1;32m     26\u001b[0m \u001b[0;34m\u001b[0m\u001b[0m\n\u001b[1;32m     27\u001b[0m         \u001b[0;31m# This is where the D-matrix is first calculated\u001b[0m\u001b[0;34m\u001b[0m\u001b[0;34m\u001b[0m\u001b[0m\n",
      "\u001b[0;31mNameError\u001b[0m: name 'theta' is not defined"
     ]
    }
   ],
   "source": [
    "def orientation_check():\n",
    "    # Choose values for alms\n",
    "    real=1\n",
    "    imag=0j # positive moves it to the left\n",
    "    real_0=0\n",
    "\n",
    "    lmax = 2\n",
    "    ell_mode = 1\n",
    "\n",
    "\n",
    "    # Calculate modes and alms\n",
    "    modes, alms = create_modes(real, imag, real_0, lmax, ell_mode)\n",
    "\n",
    "    thetas_check = np.radians([85, 50, 30, 15, 0])\n",
    "    phis_check = [2, 1.5, 1, 0.5, 0]\n",
    "    \n",
    "    \n",
    "    # initialise loop:\n",
    "    max_dipoles = list()\n",
    "    rotation_map = np.zeros(shape=hp.nside2npix(nside))\n",
    "\n",
    "    \n",
    "    # Use Wigner rotations to 'rotate' into the zenith above HERA\n",
    "    for theta_check in thetas_check:\n",
    "        #modes_rot = spherical_rotate_modes(modes=modes, lmax=lmax, theta=theta, phi=phi_check)\n",
    "        \n",
    "        # This is where the D-matrix is first calculated\n",
    "        D_matrix = D_matrix_1D(modes=modes, lmax=lmax, theta=theta_check, phi=np.radians(0))\n",
    "\n",
    "        # This is the actual rotation\n",
    "        D_rot_modes = rotate_modes_D_matrix(D_matrix, modes, lmax) \n",
    "        modes_rot_map = modes2map(modes=D_rot_modes, nside=nside, lmax=lmax, ell_mode=ell_mode)\n",
    "\n",
    "        # checkpoint\n",
    "    #         print(modes_rot == D_rot_modes) # True\n",
    "    \n",
    "        # Find dipole peak\n",
    "        mmax = modes_rot_map.max()              \n",
    "        imax = np.where(modes_rot_map == mmax)[0][0]\n",
    "        max_vec = hp.pix2vec(nside, ipix=imax)\n",
    "        max_mark = hp.query_disc(nside, vec=max_vec, radius=0.03)\n",
    "    \n",
    "        max_dipoles.append(max_mark)\n",
    "        rotation_map[np.concatenate(max_dipoles).ravel()] += 15\n",
    "        \n",
    "    max_dipoles = list()\n",
    "    # Use Wigner rotations to 'rotate' into the zenith above HERA\n",
    "    for phi_check in phis_check:\n",
    "#         modes_rot = spherical_rotate_modes(modes=modes, lmax=lmax, theta=theta, phi=phi_check)\n",
    "        \n",
    "        # This is where the D-matrix is first calculated\n",
    "        D_matrix = D_matrix_1D(modes=modes, lmax=lmax, theta=np.radians(0), phi=phi_check)\n",
    "\n",
    "        # This is the actual rotation\n",
    "        D_rot_modes = rotate_modes_D_matrix(D_matrix, modes, lmax) \n",
    "        modes_rot_map = modes2map(modes=D_rot_modes, nside=nside, lmax=lmax, ell_mode=ell_mode)\n",
    "\n",
    "        # checkpoint\n",
    "    #         print(modes_rot == D_rot_modes) # True\n",
    "    \n",
    "        # Find dipole peak\n",
    "        mmax = modes_rot_map.max()              \n",
    "        imax = np.where(modes_rot_map == mmax)[0][0]\n",
    "        max_vec = hp.pix2vec(nside, ipix=imax)\n",
    "        max_mark = hp.query_disc(nside, vec=max_vec, radius=0.03)\n",
    "    \n",
    "        max_dipoles.append(max_mark)\n",
    "        rotation_map[np.concatenate(max_dipoles).ravel()] += 15\n",
    "\n",
    "    hp.mollview(rotation_map)\n",
    "    hp.graticule()\n",
    "    plt.title(f\"Orientation check\")\n",
    "    plt.show()\n",
    "\n",
    "\n",
    "orientation_check()"
   ]
  },
  {
   "cell_type": "code",
   "execution_count": null,
   "id": "e23045a3",
   "metadata": {},
   "outputs": [],
   "source": []
  },
  {
   "cell_type": "code",
   "execution_count": null,
   "id": "94555a4f",
   "metadata": {},
   "outputs": [],
   "source": [
    "np.radians((7380/86400)*360)"
   ]
  },
  {
   "cell_type": "code",
   "execution_count": null,
   "id": "f833538c",
   "metadata": {},
   "outputs": [],
   "source": []
  }
 ],
 "metadata": {
  "kernelspec": {
   "display_name": "Python 3 (ipykernel)",
   "language": "python",
   "name": "python3"
  },
  "language_info": {
   "codemirror_mode": {
    "name": "ipython",
    "version": 3
   },
   "file_extension": ".py",
   "mimetype": "text/x-python",
   "name": "python",
   "nbconvert_exporter": "python",
   "pygments_lexer": "ipython3",
   "version": "3.9.7"
  }
 },
 "nbformat": 4,
 "nbformat_minor": 5
}
